{
  "nbformat": 4,
  "nbformat_minor": 0,
  "metadata": {
    "colab": {
      "provenance": [],
      "include_colab_link": true
    },
    "kernelspec": {
      "name": "python3",
      "display_name": "Python 3"
    },
    "language_info": {
      "name": "python"
    }
  },
  "cells": [
    {
      "cell_type": "markdown",
      "metadata": {
        "id": "view-in-github",
        "colab_type": "text"
      },
      "source": [
        "<a href=\"https://colab.research.google.com/github/Bobji23/python-learn-and-help-2022/blob/main/ch9_programming_exercise_(1).ipynb\" target=\"_parent\"><img src=\"https://colab.research.google.com/assets/colab-badge.svg\" alt=\"Open In Colab\"/></a>"
      ]
    },
    {
      "cell_type": "markdown",
      "source": [
        "# Chapter 9: Sets and Dictionaries (Programming Exercises)"
      ],
      "metadata": {
        "id": "6IP5gn17Jlyz"
      }
    },
    {
      "cell_type": "code",
      "source": [
        "from typing_extensions import NewType\n",
        "#@title 6.File Analysis\n",
        "\n",
        "'''\n",
        "Write a program that reads the contents of two text files and prints the following lists:\n",
        "\n",
        "1. All the unique words contained in both files.\n",
        "2. The words that appear in both files.\n",
        "3. The words that appear in the first file but not the second.\n",
        "4. The words that appear in the second file but not the first.\n",
        "5.The words that appear in either the first or second file, but not both.\n",
        "\n",
        "Hint: Use set operations to perform these analyses.\n",
        "'''\n",
        "def read_file(filename):\n",
        "    with open(filename, 'r') as f:\n",
        "        words = f.read().split()\n",
        "        return set(words)\n",
        "\n",
        "file1 = read_file('file1.txt')\n",
        "file2 = read_file('file2.txt')\n",
        "\n",
        "# All unique words in both files\n",
        "unique_words = file1.union(file2)\n",
        "print(\"Unique words:\", unique_words)\n",
        "\n",
        "# Words that appear in both files\n",
        "common_words = file1.intersection(file2)\n",
        "print(\"Common words:\", common_words)\n",
        "\n",
        "# Words that appear in the first file but not the second\n",
        "words_in_file1_only = file1.difference(file2)\n",
        "print(\"Words only in file1:\", words_in_file1_only)\n",
        "\n",
        "# Words that appear in the second file but not the first\n",
        "words_in_file2_only = file2.difference(file1)\n",
        "print(\"Words only in file2:\", words_in_file2_only)\n",
        "\n",
        "# Words that appear in either the first or second file, but not both\n",
        "words_in_either_file_only = file1.symmetric_difference(file2)\n",
        "print(\"Words in either file, but not both:\", words_in_either_file_only)\n"
      ],
      "metadata": {
        "id": "kmOINiwuC2TJ",
        "outputId": "3b90e8f1-ebc6-4b59-ff67-7f137d98b395",
        "colab": {
          "base_uri": "https://localhost:8080/"
        }
      },
      "execution_count": 2,
      "outputs": [
        {
          "output_type": "stream",
          "name": "stdout",
          "text": [
            "Unique words: {'elephant', 'zebra', 'newt', 'boy', 'ant', 'fish', 'dog', 'cat', 'fox'}\n",
            "Common words: {'elephant', 'boy', 'ant', 'fox', 'cat'}\n",
            "Words only in file1: {'fish', 'dog'}\n",
            "Words only in file2: {'zebra', 'newt'}\n",
            "Words in either file, but not both: {'newt', 'dog', 'fish', 'zebra'}\n"
          ]
        }
      ]
    }
  ]
}