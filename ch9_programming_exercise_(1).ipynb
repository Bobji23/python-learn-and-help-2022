{
  "nbformat": 4,
  "nbformat_minor": 0,
  "metadata": {
    "colab": {
      "provenance": [],
      "include_colab_link": true
    },
    "kernelspec": {
      "name": "python3",
      "display_name": "Python 3"
    },
    "language_info": {
      "name": "python"
    }
  },
  "cells": [
    {
      "cell_type": "markdown",
      "metadata": {
        "id": "view-in-github",
        "colab_type": "text"
      },
      "source": [
        "<a href=\"https://colab.research.google.com/github/Bobji23/python-learn-and-help-2022/blob/main/ch9_programming_exercise_(1).ipynb\" target=\"_parent\"><img src=\"https://colab.research.google.com/assets/colab-badge.svg\" alt=\"Open In Colab\"/></a>"
      ]
    },
    {
      "cell_type": "markdown",
      "source": [
        "# Chapter 9: Sets and Dictionaries (Programming Exercises)"
      ],
      "metadata": {
        "id": "6IP5gn17Jlyz"
      }
    },
    {
      "cell_type": "code",
      "source": [
        "##################### Encrypt ##################################################\n",
        "\n",
        "'''\n",
        "Write a program that uses a dictionary to assign a special symbol to each letter of the alphabet. \n",
        "Ex. A = %; B = &; C = *\n",
        "\n",
        "The program should read a text file and use the dictionary to write an encrypted version of the file.\n",
        "Write a second program that opens an encrypted file and displays its decrypted contents on the\n",
        "screen.\n",
        "'''\n",
        "\n",
        "Copy code\n",
        "def encrypt_file(filename, codes):\n",
        "    encrypted_file = filename.split('.')[0] + '_encrypted.txt'\n",
        "\n",
        "    with open(filename, 'r') as f, open(encrypted_file, 'w') as ef:\n",
        "        for line in f:\n",
        "            for char in line:\n",
        "                if char.isalpha():\n",
        "                    ef.write(codes[char])\n",
        "                else:\n",
        "                    ef.write(char)\n",
        "\n",
        "    return encrypted_file\n",
        "\n",
        "# Example usage:\n",
        "codes = {\n",
        "    'A': '%', 'B': '@', 'C': '#', 'D': '&', 'E': '!', 'F': '?', 'G': '^',\n",
        "    'H': '$', 'I': '*', 'J': '(', 'K': ')', 'L': '-', 'M': '+', 'N': '=',\n",
        "    'O': '<', 'P': '>', 'Q': '[', 'R': ']', 'S': '{', 'T': '}', 'U': '/',\n",
        "    'V': '\\\\', 'W': '|', 'X': '~', 'Y': '`', 'Z': ':', 'a': '1', 'b': '2',\n",
        "    'c': '3', 'd': '4', 'e': '5', 'f': '6', 'g': '7', 'h': '8', 'i': '9',\n",
        "    'j': '0', 'k': 'q', 'l': 'w', 'm': 'e', 'n': 'r', 'o': 't', 'p': 'y',\n",
        "    'q': 'u', 'r': 'i', 's': 'o', 't': 'p', 'u': 'a', 'v': 's', 'w': 'd',\n",
        "    'x': 'f', 'y': 'g', 'z': 'h'\n",
        "}\n",
        "filename = 'sample.txt'\n",
        "encrypted_file = encrypt_file(filename, codes)\n",
        "print(f'Successfully encrypted file: {encrypted_file}')"
      ],
      "metadata": {
        "id": "cCmOUIqUJOvP"
      },
      "execution_count": null,
      "outputs": []
    },
    {
      "cell_type": "code",
      "source": [
        "################################## Decrypt #############################################\n",
        "\n",
        "def decrypt_file(encrypted_filename, codes):\n",
        "    decrypted_file = encrypted_filename.split('_encrypted')[0] + '_decrypted.txt'\n",
        "\n",
        "    with open(encrypted_filename, 'r') as ef, open(decrypted_file, 'w') as df:\n",
        "        for line in ef:\n",
        "            for char in line:\n",
        "                if char.isalpha() or char in codes.values():\n",
        "                    for key, value in codes.items():\n",
        "                        if value == char:\n",
        "                            df.write(key)\n",
        "                else:\n",
        "                    df.write(char)\n",
        "\n",
        "    return decrypted_file\n",
        "\n",
        "# Example usage:\n",
        "decrypted_file = decrypt_file(encrypted_file, codes)\n",
        "print(f'Successfully decrypted file: {decrypted_file}')\n"
      ],
      "metadata": {
        "id": "jdJ4agHG5Ova"
      },
      "execution_count": null,
      "outputs": []
    }
  ]
}