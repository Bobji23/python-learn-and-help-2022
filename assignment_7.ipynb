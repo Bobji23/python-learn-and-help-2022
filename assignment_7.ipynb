{
  "nbformat": 4,
  "nbformat_minor": 0,
  "metadata": {
    "colab": {
      "provenance": [],
      "authorship_tag": "ABX9TyMuTx5UPxskaRdeKW0eK5+E",
      "include_colab_link": true
    },
    "kernelspec": {
      "name": "python3",
      "display_name": "Python 3"
    },
    "language_info": {
      "name": "python"
    }
  },
  "cells": [
    {
      "cell_type": "markdown",
      "metadata": {
        "id": "view-in-github",
        "colab_type": "text"
      },
      "source": [
        "<a href=\"https://colab.research.google.com/github/Bobji23/python-learn-and-help-2022/blob/main/assignment_7.ipynb\" target=\"_parent\"><img src=\"https://colab.research.google.com/assets/colab-badge.svg\" alt=\"Open In Colab\"/></a>"
      ]
    },
    {
      "cell_type": "code",
      "execution_count": 2,
      "metadata": {
        "colab": {
          "base_uri": "https://localhost:8080/"
        },
        "id": "3U0Pfa_sbSjY",
        "outputId": "e091941b-6623-4fbf-aa8c-dc26ccf48a2f"
      },
      "outputs": [
        {
          "output_type": "stream",
          "name": "stdout",
          "text": [
            "123 Main St, Cityville, 12345\n",
            "456 Elm St, Towntown, 67890\n",
            "789 Oak St, Villageton, 98765\n",
            "Address('123 Main St', 'Cityville', '12345')\n",
            "Address('456 Elm St', 'Towntown', '67890')\n",
            "Address('789 Oak St', 'Villageton', '98765')\n",
            "False\n",
            "True\n",
            "True\n",
            "True\n",
            "False\n",
            "False\n"
          ]
        }
      ],
      "source": [
        "class Address:\n",
        "    def __init__(self, street, city, postal_code):\n",
        "        self.street = street\n",
        "        self.city = city\n",
        "        self.postal_code = postal_code\n",
        "\n",
        "    def __str__(self):\n",
        "        return f\"{self.street}, {self.city}, {self.postal_code}\"\n",
        "\n",
        "    def __repr__(self):\n",
        "        return f\"Address('{self.street}', '{self.city}', '{self.postal_code}')\"\n",
        "\n",
        "    def __eq__(self, other):\n",
        "        return (self.street, self.city, self.postal_code) == (other.street, other.city, other.postal_code)\n",
        "\n",
        "    def __ne__(self, other):\n",
        "        return not self == other\n",
        "\n",
        "    def __lt__(self, other):\n",
        "        return (self.street, self.city, self.postal_code) < (other.street, other.city, other.postal_code)\n",
        "\n",
        "    def __le__(self, other):\n",
        "        return (self.street, self.city, self.postal_code) <= (other.street, other.city, other.postal_code)\n",
        "\n",
        "    def __gt__(self, other):\n",
        "        return (self.street, self.city, self.postal_code) > (other.street, other.city, other.postal_code)\n",
        "\n",
        "    def __ge__(self, other):\n",
        "        return (self.street, self.city, self.postal_code) >= (other.street, other.city, other.postal_code)\n",
        "\n",
        "# Creating three instances of the Address class\n",
        "address1 = Address(\"123 Main St\", \"Cityville\", \"12345\")\n",
        "address2 = Address(\"456 Elm St\", \"Towntown\", \"67890\")\n",
        "address3 = Address(\"789 Oak St\", \"Villageton\", \"98765\")\n",
        "\n",
        "# Printing the object (uses the __str__ method)\n",
        "print(address1)\n",
        "print(address2)\n",
        "print(address3)\n",
        "\n",
        "# Printing the representation of the object (uses the __repr__ method)\n",
        "print(repr(address1))\n",
        "print(repr(address2))\n",
        "print(repr(address3))\n",
        "\n",
        "# Testing comparison operators\n",
        "print(address1 == address2)  # Should be False\n",
        "print(address1 != address2)  # Should be True\n",
        "print(address1 < address2)   # Should be True\n",
        "print(address1 <= address2)  # Should be True\n",
        "print(address1 > address2)   # Should be False\n",
        "print(address1 >= address2)  # Should be False\n"
      ]
    }
  ]
}