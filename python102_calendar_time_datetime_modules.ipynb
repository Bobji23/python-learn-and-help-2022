{
  "nbformat": 4,
  "nbformat_minor": 0,
  "metadata": {
    "colab": {
      "provenance": [],
      "toc_visible": true,
      "include_colab_link": true
    },
    "kernelspec": {
      "name": "python3",
      "display_name": "Python 3"
    },
    "language_info": {
      "name": "python"
    }
  },
  "cells": [
    {
      "cell_type": "markdown",
      "metadata": {
        "id": "view-in-github",
        "colab_type": "text"
      },
      "source": [
        "<a href=\"https://colab.research.google.com/github/Bobji23/python-learn-and-help-2022/blob/main/python102_calendar_time_datetime_modules.ipynb\" target=\"_parent\"><img src=\"https://colab.research.google.com/assets/colab-badge.svg\" alt=\"Open In Colab\"/></a>"
      ]
    },
    {
      "cell_type": "markdown",
      "source": [
        "# Python 102 - Learn and Help\n",
        "## Siva.Jasthi@gmail.com\n",
        "\n",
        "## Python Package Index\n",
        "### https://pypi.org/"
      ],
      "metadata": {
        "id": "nWr0t472noJU"
      }
    },
    {
      "cell_type": "markdown",
      "source": [
        "# Calendar Module"
      ],
      "metadata": {
        "id": "Pv6KpQwyncrs"
      }
    },
    {
      "cell_type": "code",
      "source": [
        "#@title Exploring calendar module (What does it offer me?)\n",
        "import calendar\n",
        "\n",
        "cmd_list = dir(calendar)\n",
        "\n",
        "for cmd in cmd_list:\n",
        "  if '_' not in cmd:\n",
        "    print(cmd)"
      ],
      "metadata": {
        "colab": {
          "base_uri": "https://localhost:8080/"
        },
        "id": "v0RPDsVtni2t",
        "outputId": "905cec17-56b1-412b-893a-aba5f603347a"
      },
      "execution_count": null,
      "outputs": [
        {
          "output_type": "stream",
          "name": "stdout",
          "text": [
            "Calendar\n",
            "EPOCH\n",
            "FRIDAY\n",
            "February\n",
            "HTMLCalendar\n",
            "IllegalMonthError\n",
            "IllegalWeekdayError\n",
            "January\n",
            "LocaleHTMLCalendar\n",
            "LocaleTextCalendar\n",
            "MONDAY\n",
            "SATURDAY\n",
            "SUNDAY\n",
            "THURSDAY\n",
            "TUESDAY\n",
            "TextCalendar\n",
            "WEDNESDAY\n",
            "c\n",
            "calendar\n",
            "datetime\n",
            "error\n",
            "firstweekday\n",
            "format\n",
            "formatstring\n",
            "isleap\n",
            "leapdays\n",
            "main\n",
            "mdays\n",
            "month\n",
            "monthcalendar\n",
            "monthrange\n",
            "prcal\n",
            "prmonth\n",
            "prweek\n",
            "repeat\n",
            "setfirstweekday\n",
            "sys\n",
            "timegm\n",
            "week\n",
            "weekday\n",
            "weekheader\n"
          ]
        }
      ]
    },
    {
      "cell_type": "code",
      "source": [
        "#@title Getting the help on a specific command\n",
        "help(calendar.isleap)\n",
        "\n",
        "# 2000\n",
        "# isleap(2000)\n",
        "# calendar.isleap(2000)\n",
        "print(calendar.isleap(2000))\n"
      ],
      "metadata": {
        "colab": {
          "base_uri": "https://localhost:8080/"
        },
        "id": "ILAbxHGhMvDj",
        "outputId": "7fc6aff5-3582-4bc4-a5c0-e576236e9133"
      },
      "execution_count": null,
      "outputs": [
        {
          "output_type": "stream",
          "name": "stdout",
          "text": [
            "Help on function isleap in module calendar:\n",
            "\n",
            "isleap(year)\n",
            "    Return True for leap years, False for non-leap years.\n",
            "\n",
            "True\n",
            "Help on method formatmonth in module calendar:\n",
            "\n",
            "formatmonth(theyear, themonth, w=0, l=0) method of calendar.TextCalendar instance\n",
            "    Return a month's calendar string (multi-line).\n",
            "\n"
          ]
        }
      ]
    },
    {
      "cell_type": "code",
      "source": [
        "#@title month: This method returns a multiline string of a month's calendar.\n",
        "import calendar\n",
        "\n",
        "# Get the calendar for December 2023\n",
        "month_12 = calendar.month(2023, 12)\n",
        "\n",
        "# Print the calendar for March 2023\n",
        "print(month_12)\n"
      ],
      "metadata": {
        "colab": {
          "base_uri": "https://localhost:8080/"
        },
        "id": "SnsHHcSur1pD",
        "outputId": "64908ddc-f4e4-4691-fb05-8b34777f95bb"
      },
      "execution_count": null,
      "outputs": [
        {
          "output_type": "stream",
          "name": "stdout",
          "text": [
            "   December 2023\n",
            "Mo Tu We Th Fr Sa Su\n",
            "             1  2  3\n",
            " 4  5  6  7  8  9 10\n",
            "11 12 13 14 15 16 17\n",
            "18 19 20 21 22 23 24\n",
            "25 26 27 28 29 30 31\n",
            "\n"
          ]
        }
      ]
    },
    {
      "cell_type": "code",
      "source": [
        "#@title mdays: This method returns a list representing the number of days in each month for a non-leap year.\n",
        "import calendar\n",
        "\n",
        "# Get the number of days in each month for a non-leap year\n",
        "days_in_each_month = calendar.mdays\n",
        "\n",
        "# Print the list of days in each month\n",
        "for month in range(1, 13):\n",
        "    print(f\"Month {month}: {days_in_each_month[month]} days\")\n"
      ],
      "metadata": {
        "colab": {
          "base_uri": "https://localhost:8080/"
        },
        "id": "UvxvgwvWsFLQ",
        "outputId": "1d267f5a-c792-4a4b-ea9a-7eb4b21ec29a"
      },
      "execution_count": null,
      "outputs": [
        {
          "output_type": "stream",
          "name": "stdout",
          "text": [
            "Month 1: 31 days\n",
            "Month 2: 28 days\n",
            "Month 3: 31 days\n",
            "Month 4: 30 days\n",
            "Month 5: 31 days\n",
            "Month 6: 30 days\n",
            "Month 7: 31 days\n",
            "Month 8: 31 days\n",
            "Month 9: 30 days\n",
            "Month 10: 31 days\n",
            "Month 11: 30 days\n",
            "Month 12: 31 days\n"
          ]
        }
      ]
    },
    {
      "cell_type": "code",
      "source": [
        "#@title isleap: Checks whether a given year is a leap year\n",
        "import calendar\n",
        "\n",
        "year1 = 2024\n",
        "year2 = 2023\n",
        "\n",
        "print(f'is {year1} leap? {calendar.isleap(year1)}')\n",
        "\n",
        "print(f'is {year2} leap? {calendar.isleap(year2)}')\n",
        "\n"
      ],
      "metadata": {
        "colab": {
          "base_uri": "https://localhost:8080/"
        },
        "id": "QomFcsNVtMGw",
        "outputId": "37238a30-5543-4ac6-eef6-2e3792220e2c"
      },
      "execution_count": null,
      "outputs": [
        {
          "output_type": "stream",
          "name": "stdout",
          "text": [
            "is 2024 leap? True\n",
            "is 2023 leap? False\n"
          ]
        }
      ]
    },
    {
      "cell_type": "code",
      "source": [
        "#@title month_abbr: This method returns a list of abbreviated month names.\n",
        "import calendar\n",
        "\n",
        "# Get the list of abbreviated month names\n",
        "abbreviated_months = calendar.month_abbr\n",
        "\n",
        "# Print the list of abbreviated month names\n",
        "for month in range(1, 13):\n",
        "    print(f\"Month {month}: {abbreviated_months[month]}\")\n"
      ],
      "metadata": {
        "colab": {
          "base_uri": "https://localhost:8080/"
        },
        "id": "TE0FXLdXrL80",
        "outputId": "4d9177f9-e853-41c9-eb59-b86e2e6d9afa"
      },
      "execution_count": null,
      "outputs": [
        {
          "output_type": "stream",
          "name": "stdout",
          "text": [
            "Month 1: Jan\n",
            "Month 2: Feb\n",
            "Month 3: Mar\n",
            "Month 4: Apr\n",
            "Month 5: May\n",
            "Month 6: Jun\n",
            "Month 7: Jul\n",
            "Month 8: Aug\n",
            "Month 9: Sep\n",
            "Month 10: Oct\n",
            "Month 11: Nov\n",
            "Month 12: Dec\n"
          ]
        }
      ]
    },
    {
      "cell_type": "code",
      "source": [
        "#@title month_name: This method returns a list of full month names.\n",
        "import calendar\n",
        "\n",
        "# Get the list of full month names\n",
        "full_months = calendar.month_name\n",
        "\n",
        "# Print the list of full month names\n",
        "for month in range(1, 13):\n",
        "    print(f\"Month {month}: {full_months[month]}\")\n"
      ],
      "metadata": {
        "colab": {
          "base_uri": "https://localhost:8080/"
        },
        "id": "Ce-eV4jHrkSK",
        "outputId": "30c66d11-8aee-4a87-e131-094def154820"
      },
      "execution_count": null,
      "outputs": [
        {
          "output_type": "stream",
          "name": "stdout",
          "text": [
            "Month 1: January\n",
            "Month 2: February\n",
            "Month 3: March\n",
            "Month 4: April\n",
            "Month 5: May\n",
            "Month 6: June\n",
            "Month 7: July\n",
            "Month 8: August\n",
            "Month 9: September\n",
            "Month 10: October\n",
            "Month 11: November\n",
            "Month 12: December\n"
          ]
        }
      ]
    },
    {
      "cell_type": "code",
      "source": [
        "#@title monthrange: This method returns the weekday of the first day of the month and the number of days in the month.\n",
        "import calendar\n",
        "\n",
        "# Get the weekday and number of days in March 2023\n",
        "first_day_weekday, num_days = calendar.monthrange(2023, 12)\n",
        "\n",
        "# Print the results\n",
        "print(f\"The first day of March 2023 is a weekday number {first_day_weekday}.\")\n",
        "print(f\"There are {num_days} days in March 2023.\")\n"
      ],
      "metadata": {
        "colab": {
          "base_uri": "https://localhost:8080/"
        },
        "id": "w6U34KJpsh-h",
        "outputId": "26cbc2af-7ee5-4929-b88d-740d9c19b153"
      },
      "execution_count": null,
      "outputs": [
        {
          "output_type": "stream",
          "name": "stdout",
          "text": [
            "The first day of March 2023 is a weekday number 4.\n",
            "There are 31 days in March 2023.\n"
          ]
        }
      ]
    },
    {
      "cell_type": "code",
      "execution_count": null,
      "metadata": {
        "colab": {
          "base_uri": "https://localhost:8080/"
        },
        "id": "h_n9Ac3oqPaO",
        "outputId": "2862abee-de57-41a3-fd99-7dd785fd950e"
      },
      "outputs": [
        {
          "output_type": "stream",
          "name": "stdout",
          "text": [
            "January 2023\n",
            "Mon Tue Wed Thu Fri Sat Sun\n",
            "                         1\n",
            " 2   3   4   5   6   7   8\n",
            " 9  10  11  12  13  14  15\n",
            "16  17  18  19  20  21  22\n",
            "23  24  25  26  27  28  29\n",
            "30  31\n",
            "\n",
            "February 2023\n",
            "Mon Tue Wed Thu Fri Sat Sun\n",
            "         1   2   3   4   5\n",
            " 6   7   8   9  10  11  12\n",
            "13  14  15  16  17  18  19\n",
            "20  21  22  23  24  25  26\n",
            "27  28\n",
            "\n",
            "March 2023\n",
            "Mon Tue Wed Thu Fri Sat Sun\n",
            "         1   2   3   4   5\n",
            " 6   7   8   9  10  11  12\n",
            "13  14  15  16  17  18  19\n",
            "20  21  22  23  24  25  26\n",
            "27  28  29  30  31\n",
            "\n",
            "April 2023\n",
            "Mon Tue Wed Thu Fri Sat Sun\n",
            "                     1   2\n",
            " 3   4   5   6   7   8   9\n",
            "10  11  12  13  14  15  16\n",
            "17  18  19  20  21  22  23\n",
            "24  25  26  27  28  29  30\n",
            "\n",
            "May 2023\n",
            "Mon Tue Wed Thu Fri Sat Sun\n",
            " 1   2   3   4   5   6   7\n",
            " 8   9  10  11  12  13  14\n",
            "15  16  17  18  19  20  21\n",
            "22  23  24  25  26  27  28\n",
            "29  30  31\n",
            "\n",
            "June 2023\n",
            "Mon Tue Wed Thu Fri Sat Sun\n",
            "             1   2   3   4\n",
            " 5   6   7   8   9  10  11\n",
            "12  13  14  15  16  17  18\n",
            "19  20  21  22  23  24  25\n",
            "26  27  28  29  30\n",
            "\n",
            "July 2023\n",
            "Mon Tue Wed Thu Fri Sat Sun\n",
            "                     1   2\n",
            " 3   4   5   6   7   8   9\n",
            "10  11  12  13  14  15  16\n",
            "17  18  19  20  21  22  23\n",
            "24  25  26  27  28  29  30\n",
            "31\n",
            "\n",
            "August 2023\n",
            "Mon Tue Wed Thu Fri Sat Sun\n",
            "     1   2   3   4   5   6\n",
            " 7   8   9  10  11  12  13\n",
            "14  15  16  17  18  19  20\n",
            "21  22  23  24  25  26  27\n",
            "28  29  30  31\n",
            "\n",
            "September 2023\n",
            "Mon Tue Wed Thu Fri Sat Sun\n",
            "                 1   2   3\n",
            " 4   5   6   7   8   9  10\n",
            "11  12  13  14  15  16  17\n",
            "18  19  20  21  22  23  24\n",
            "25  26  27  28  29  30\n",
            "\n",
            "October 2023\n",
            "Mon Tue Wed Thu Fri Sat Sun\n",
            "                         1\n",
            " 2   3   4   5   6   7   8\n",
            " 9  10  11  12  13  14  15\n",
            "16  17  18  19  20  21  22\n",
            "23  24  25  26  27  28  29\n",
            "30  31\n",
            "\n",
            "November 2023\n",
            "Mon Tue Wed Thu Fri Sat Sun\n",
            "         1   2   3   4   5\n",
            " 6   7   8   9  10  11  12\n",
            "13  14  15  16  17  18  19\n",
            "20  21  22  23  24  25  26\n",
            "27  28  29  30\n",
            "\n",
            "December 2023\n",
            "Mon Tue Wed Thu Fri Sat Sun\n",
            "                 1   2   3\n",
            " 4   5   6   7   8   9  10\n",
            "11  12  13  14  15  16  17\n",
            "18  19  20  21  22  23  24\n",
            "25  26  27  28  29  30  31\n",
            "\n"
          ]
        }
      ],
      "source": [
        "#@title monthcalendar print the calendar for a given year and month\n",
        "import calendar\n",
        "\n",
        "def print_calendar(year, month):\n",
        "    # Use the monthcalendar() method to get the calendar data for the specified month and year\n",
        "    cal_data = calendar.monthcalendar(year, month)\n",
        "\n",
        "    # Define day names\n",
        "    day_names = [\"Mon\", \"Tue\", \"Wed\", \"Thu\", \"Fri\", \"Sat\", \"Sun\"]\n",
        "\n",
        "    # Use the month_name method to get the month name\n",
        "    print(calendar.month_name[month], year)\n",
        "\n",
        "    # Print the header with day names\n",
        "    print(\" \".join(day_names))\n",
        "\n",
        "    # Print each week in the calendar\n",
        "    for week in cal_data:\n",
        "        week_str = \"\"\n",
        "        for day in week:\n",
        "            # If the day is 0, it means it's part of the previous or next month\n",
        "            if day == 0:\n",
        "                week_str += \"    \"\n",
        "            else:\n",
        "                week_str += f\"{day:2d}  \"\n",
        "        print(week_str.rstrip())\n",
        "\n",
        "# Example: Print the calendar for December 2023\n",
        "for month in range(1, 13):\n",
        "  print_calendar(2023, month)\n",
        "  print()\n"
      ]
    },
    {
      "cell_type": "code",
      "source": [
        "#@title what is prcal?\n",
        "help(calendar.prcal)\n",
        "\n",
        "calendar.prcal(2023, c = 0)"
      ],
      "metadata": {
        "colab": {
          "base_uri": "https://localhost:8080/"
        },
        "id": "IDKRRTyOPyU5",
        "outputId": "3c16fc16-64f0-4618-a841-75e345fe5380"
      },
      "execution_count": null,
      "outputs": [
        {
          "output_type": "stream",
          "name": "stdout",
          "text": [
            "Help on method pryear in module calendar:\n",
            "\n",
            "pryear(theyear, w=0, l=0, c=6, m=3) method of calendar.TextCalendar instance\n",
            "    Print a year's calendar.\n",
            "\n",
            "                                    2023\n",
            "\n",
            "      January                     February                     March\n",
            "Mo Tu We Th Fr Sa Su        Mo Tu We Th Fr Sa Su        Mo Tu We Th Fr Sa Su\n",
            "                   1               1  2  3  4  5               1  2  3  4  5\n",
            " 2  3  4  5  6  7  8         6  7  8  9 10 11 12         6  7  8  9 10 11 12\n",
            " 9 10 11 12 13 14 15        13 14 15 16 17 18 19        13 14 15 16 17 18 19\n",
            "16 17 18 19 20 21 22        20 21 22 23 24 25 26        20 21 22 23 24 25 26\n",
            "23 24 25 26 27 28 29        27 28                       27 28 29 30 31\n",
            "30 31\n",
            "\n",
            "       April                        May                         June\n",
            "Mo Tu We Th Fr Sa Su        Mo Tu We Th Fr Sa Su        Mo Tu We Th Fr Sa Su\n",
            "                1  2         1  2  3  4  5  6  7                  1  2  3  4\n",
            " 3  4  5  6  7  8  9         8  9 10 11 12 13 14         5  6  7  8  9 10 11\n",
            "10 11 12 13 14 15 16        15 16 17 18 19 20 21        12 13 14 15 16 17 18\n",
            "17 18 19 20 21 22 23        22 23 24 25 26 27 28        19 20 21 22 23 24 25\n",
            "24 25 26 27 28 29 30        29 30 31                    26 27 28 29 30\n",
            "\n",
            "        July                       August                    September\n",
            "Mo Tu We Th Fr Sa Su        Mo Tu We Th Fr Sa Su        Mo Tu We Th Fr Sa Su\n",
            "                1  2            1  2  3  4  5  6                     1  2  3\n",
            " 3  4  5  6  7  8  9         7  8  9 10 11 12 13         4  5  6  7  8  9 10\n",
            "10 11 12 13 14 15 16        14 15 16 17 18 19 20        11 12 13 14 15 16 17\n",
            "17 18 19 20 21 22 23        21 22 23 24 25 26 27        18 19 20 21 22 23 24\n",
            "24 25 26 27 28 29 30        28 29 30 31                 25 26 27 28 29 30\n",
            "31\n",
            "\n",
            "      October                     November                    December\n",
            "Mo Tu We Th Fr Sa Su        Mo Tu We Th Fr Sa Su        Mo Tu We Th Fr Sa Su\n",
            "                   1               1  2  3  4  5                     1  2  3\n",
            " 2  3  4  5  6  7  8         6  7  8  9 10 11 12         4  5  6  7  8  9 10\n",
            " 9 10 11 12 13 14 15        13 14 15 16 17 18 19        11 12 13 14 15 16 17\n",
            "16 17 18 19 20 21 22        20 21 22 23 24 25 26        18 19 20 21 22 23 24\n",
            "23 24 25 26 27 28 29        27 28 29 30                 25 26 27 28 29 30 31\n",
            "30 31\n"
          ]
        }
      ]
    },
    {
      "cell_type": "markdown",
      "source": [
        "# datetime module"
      ],
      "metadata": {
        "id": "sDJU1qeUOFB6"
      }
    },
    {
      "cell_type": "code",
      "source": [
        "#@title Exploring datetime module (What does it offer me?)\n",
        "import datetime\n",
        "\n",
        "cmd_list = dir(datetime)\n",
        "\n",
        "for cmd in cmd_list:\n",
        "  if '_' not in cmd:\n",
        "    print(cmd)"
      ],
      "metadata": {
        "colab": {
          "base_uri": "https://localhost:8080/"
        },
        "id": "1STePI5JScMO",
        "outputId": "ab9bd17a-8002-485e-b451-d483637ea152"
      },
      "execution_count": null,
      "outputs": [
        {
          "output_type": "stream",
          "name": "stdout",
          "text": [
            "MAXYEAR\n",
            "MINYEAR\n",
            "date\n",
            "datetime\n",
            "sys\n",
            "time\n",
            "timedelta\n",
            "timezone\n",
            "tzinfo\n"
          ]
        }
      ]
    },
    {
      "cell_type": "code",
      "source": [
        "#@title Role Play: Come up with the examples for datetime module\n",
        "\n",
        "# Importing necessary modules\n",
        "from datetime import date, datetime, time, timedelta, timezone\n",
        "\n",
        "# Example for date\n",
        "current_date = date.today()\n",
        "print(\"Today's date is:\", current_date)\n",
        "\n",
        "# Example for datetime\n",
        "current_datetime = datetime.now()\n",
        "print(\"Current date and time:\", current_datetime)\n",
        "\n",
        "# Example for sys (not a part of datetime module)\n",
        "import sys\n",
        "print(\"Python version:\", sys.version)\n",
        "\n",
        "# Example for time\n",
        "current_time = time(hour=12, minute=30, second=45)\n",
        "print(\"Current time is:\", current_time)\n",
        "\n",
        "# Example for timedelta\n",
        "one_day_delta = timedelta(days=1)\n",
        "yesterday = current_date - one_day_delta\n",
        "print(\"Yesterday's date was:\", yesterday)\n",
        "\n",
        "# Example for timezone\n",
        "my_timezone = timezone.utc\n",
        "print(\"Current timezone:\", my_timezone)\n",
        "\n",
        "# Example for tzinfo (abstract class, need to subclass)\n",
        "class MyTimeZoneInfo(timezone):\n",
        "    def __init__(self, offset):\n",
        "        self._offset = timedelta(hours=offset)\n",
        "    def utcoffset(self, dt):\n",
        "        return self._offset\n",
        "    def tzname(self, dt):\n",
        "        return f\"My Timezone ({self._offset})\"\n",
        "    def dst(self, dt):\n",
        "        return timedelta(0)\n",
        "\n",
        "my_custom_timezone = MyTimeZoneInfo(offset=5)\n",
        "print(\"Custom timezone:\", my_custom_timezone.tzname(None))\n"
      ],
      "metadata": {
        "id": "yUggkO3KS_vr"
      },
      "execution_count": null,
      "outputs": []
    },
    {
      "cell_type": "code",
      "source": [
        "#@title today() returns today's date\n",
        "import datetime\n",
        "\n",
        "# Get today's date\n",
        "today_date = datetime.date.today()\n",
        "\n",
        "# Print today's date\n",
        "print(\"Today's date:\", today_date)\n",
        "\n",
        "\n",
        "# Parse components\n",
        "print(\"Parsing the today's date into year, month and day\")\n",
        "year = today_date.year\n",
        "month = today_date.month\n",
        "day = today_date.day\n",
        "\n",
        "# Print the components\n",
        "print(\"Year:\", year)\n",
        "print(\"Month:\", month)\n",
        "print(\"Day:\", day)\n",
        "\n"
      ],
      "metadata": {
        "id": "7YAIE6LPOHP1"
      },
      "execution_count": null,
      "outputs": []
    },
    {
      "cell_type": "markdown",
      "source": [
        "# time module"
      ],
      "metadata": {
        "id": "eXx_29_XSAxt"
      }
    },
    {
      "cell_type": "code",
      "source": [
        "#@title Exploring time module"
      ],
      "metadata": {
        "id": "Qneanw5eSDSq"
      },
      "execution_count": null,
      "outputs": []
    },
    {
      "cell_type": "markdown",
      "source": [
        "# os module"
      ],
      "metadata": {
        "id": "OphqAnoZSIa9"
      }
    },
    {
      "cell_type": "code",
      "source": [
        "#@title Exploring os module"
      ],
      "metadata": {
        "id": "psPRXNkTSJxA"
      },
      "execution_count": null,
      "outputs": []
    }
  ]
}