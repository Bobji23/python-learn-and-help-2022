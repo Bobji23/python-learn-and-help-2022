{
  "nbformat": 4,
  "nbformat_minor": 0,
  "metadata": {
    "colab": {
      "provenance": [],
      "collapsed_sections": [],
      "include_colab_link": true
    },
    "kernelspec": {
      "name": "python3",
      "display_name": "Python 3"
    },
    "language_info": {
      "name": "python"
    }
  },
  "cells": [
    {
      "cell_type": "markdown",
      "metadata": {
        "id": "view-in-github",
        "colab_type": "text"
      },
      "source": [
        "<a href=\"https://colab.research.google.com/github/Bobji23/python-learn-and-help-2022/blob/main/Assignment_2.ipynb\" target=\"_parent\"><img src=\"https://colab.research.google.com/assets/colab-badge.svg\" alt=\"Open In Colab\"/></a>"
      ]
    },
    {
      "cell_type": "code",
      "execution_count": null,
      "metadata": {
        "id": "sYv_dpXgPYYI",
        "outputId": "1f459529-354a-40b5-aded-3a1a1db931fe",
        "colab": {
          "base_uri": "https://localhost:8080/"
        }
      },
      "outputs": [
        {
          "output_type": "stream",
          "name": "stdout",
          "text": [
            "Enter amount of miles driven: 400\n",
            "Enter amount of gallons used: 20\n",
            "Your miles per gallon is:  20.00\n"
          ]
        }
      ],
      "source": [
        "##########################################\n",
        "# Assignment 2.7 Miles-per-Gallon\n",
        "\n",
        "# Input for Miles Driven\n",
        "\n",
        "miles_driven = input(\"Enter amount of miles driven: \")\n",
        "miles_driven = float(miles_driven)  # Convert to float\n",
        "\n",
        "# Input for gallons of gas used\n",
        "\n",
        "gallons_used = input(\"Enter amount of gallons used: \")\n",
        "gallons_used = float(gallons_used) #Convert to float\n",
        "\n",
        "# Calculate MPG\n",
        "mpg = (miles_driven / gallons_used)\n",
        "\n",
        "\n",
        "#Display output\n",
        "print(\"Your miles per gallon is: \", format(mpg, ',.2f'))"
      ]
    },
    {
      "cell_type": "code",
      "source": [
        "###########################################\n",
        "# Assignment 2.8 Tip, Tax, and Total\n",
        "\n",
        "# Input for resturant meal price\n",
        "\n",
        "meal_charge = input(\"Enter the charge of the resturant food: \")\n",
        "meal_charge = float(meal_charge) #Convert to float\n",
        "\n",
        "#Calculate Tip, Tax, and Total\n",
        "\n",
        "tip = (meal_charge * 0.18)\n",
        "tax = (meal_charge * 0.07)\n",
        "total = (meal_charge + tip + tax)\n",
        "\n",
        "# Print output\n",
        "print(\"Total resturaunt meal price: \", format(meal_charge, ',.2f'))\n",
        "print(\"Employee tip price: \", format(tip, ',.2f'))\n",
        "print(\"Tax of meal: \", format(tax, ',.2f'))\n",
        "print(\"Total price including tip and tax:\", format(total, ',.2f'))\n",
        "\n",
        "\n"
      ],
      "metadata": {
        "id": "wPZzgvS1RkTZ"
      },
      "execution_count": null,
      "outputs": []
    },
    {
      "cell_type": "code",
      "source": [
        "#################################################\n",
        "# Assignment 2.9 Celsius to Fahrenheit Temperature Converter\n",
        "\n",
        "celsius_or_fahrenheit = input(\"Do you want to convert temprature to Celsius or Fahrenheit?\")\n",
        "\n",
        "celsius_or_fahrenheit = (celsius_or_fahrenheit.lower())\n",
        "\n",
        "if celsius_or_fahrenheit == 'celsius':\n",
        "  temprature_f = input(\"Enter fahrenheit temprature: \")\n",
        "  temprature_f = float(temprature_f)\n",
        "  first_convert = (temprature_f - 32)\n",
        "  second_convert = (first_convert * .5556)\n",
        "  celsius_degrees = int(second_convert)\n",
        "  print(temprature_f, \" fahrenheit is\", celsius_degrees, \" in celsius.\")\n",
        "\n",
        "elif celsius_or_fahrenheit == 'fahrenheit':\n",
        "   temprature_c = input(\"Enter celsius temprature: \")\n",
        "   temprature_c = float(temprature_c)\n",
        "   one_convert = (temprature_c * 1.8)\n",
        "   two_convert = (one_convert + 32)\n",
        "   fahrenheit_degrees = int(two_convert)\n",
        "   print(temprature_c, \"degrees celsius is\", fahrenheit_degrees, \"in fahrenheit.\")\n",
        "\n",
        "else:\n",
        "  print(\"Your input is incorrect. Please try again.\")\n",
        "  celsius_or_fahrenheit = input(\"Do you want to convert temprature to Celsius or Fahrenheit?\")\n",
        "\n",
        "  celsius_or_fahrenheit = (celsius_or_fahrenheit.lower())\n",
        "\n",
        "  if celsius_or_fahrenheit == 'celsius':\n",
        "    temprature_f = input(\"Enter fahrenheit temprature: \")\n",
        "    temprature_f = float(temprature_f)\n",
        "    first_convert = (temprature_f - 32)\n",
        "    second_convert = (first_convert * .5556)\n",
        "    celsius_degrees = int(second_convert)\n",
        "    print(temprature_f, \"degrees fahrenheit is\", celsius_degrees, \" in celsius.\")\n",
        "\n",
        "  elif celsius_or_fahrenheit == 'fahrenheit':\n",
        "    temprature_c = input(\"Enter celsius temprature: \")\n",
        "    temprature_c = float(temprature_c)\n",
        "    one_convert = (temprature_c * 1.8)\n",
        "    two_convert = (one_convert + 32)\n",
        "    fahrenheit_degrees = int(two_convert)\n",
        "    print(temprature_c, \" celsius is\", fahrenheit_degrees, \" in fahrenheit.\")\n",
        "  else:\n",
        "    print(\"Your input is incorrect. Please try again.\")"
      ],
      "metadata": {
        "id": "28ZIs6TuU2MS"
      },
      "execution_count": null,
      "outputs": []
    },
    {
      "cell_type": "code",
      "source": [
        "####################################################3\n",
        "# Assignment 2.10\n",
        "\n",
        "#Input\n",
        "number_of_cookies = input(\"Enter the number of cookies you want to make: \")\n",
        "number_of_cookies = int(number_of_cookies)\n",
        "\n",
        "#Set parameters\n",
        "cookies = 48\n",
        "sugar = 1.5\n",
        "butter = 1\n",
        "flour = 2.75\n",
        "\n",
        "#Process it\n",
        "sugar_needed  = (sugar * number_of_cookies) / cookies\n",
        "total_butter = (butter * number_of_cookies) / cookies\n",
        "total_flour  = (flour * number_of_cookies) / cookies\n",
        "\n",
        "#Print output\n",
        "print(\"For \", number_of_cookies, \"cookies you need \", format(sugar_needed, ',.2f'), \"cups of sugar, \", format(total_butter, ',.2f'), \"cups of butter, and \",format(total_flour, ',.2f'), \"cups of flour.\")\n"
      ],
      "metadata": {
        "id": "CLDKYk1AbHdo"
      },
      "execution_count": null,
      "outputs": []
    }
  ]
}