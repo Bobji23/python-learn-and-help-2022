{
  "nbformat": 4,
  "nbformat_minor": 0,
  "metadata": {
    "colab": {
      "provenance": [],
      "authorship_tag": "ABX9TyMq/RavFKlzSFpgyqn9fqaP",
      "include_colab_link": true
    },
    "kernelspec": {
      "name": "python3",
      "display_name": "Python 3"
    },
    "language_info": {
      "name": "python"
    }
  },
  "cells": [
    {
      "cell_type": "markdown",
      "metadata": {
        "id": "view-in-github",
        "colab_type": "text"
      },
      "source": [
        "<a href=\"https://colab.research.google.com/github/Bobji23/python-learn-and-help-2022/blob/main/Assignment14.ipynb\" target=\"_parent\"><img src=\"https://colab.research.google.com/assets/colab-badge.svg\" alt=\"Open In Colab\"/></a>"
      ]
    },
    {
      "cell_type": "code",
      "execution_count": 22,
      "metadata": {
        "colab": {
          "base_uri": "https://localhost:8080/"
        },
        "id": "sNtE2aEBgEJ6",
        "outputId": "72fa530a-1561-4c66-9e78-ddc9d40c29a1"
      },
      "outputs": [
        {
          "output_type": "stream",
          "name": "stdout",
          "text": [
            "File not found. Please try again\n",
            "___________________________________________________________________________________________________\n",
            "File not found. Please try again\n"
          ]
        }
      ],
      "source": [
        "# Yearly\n",
        "\n",
        "# dict for price per year\n",
        "price_per_year = {}\n",
        "# dict for counting number of years\n",
        "count_year = {}\n",
        "# dict for count average per year\n",
        "average_price_per_year = {}\n",
        "# opening file\n",
        "try:\n",
        "  file = open('gasprices.txt')\n",
        "  # processing file data\n",
        "  for line in file.readlines():\n",
        "    # separating date and price\n",
        "    date, price = line.strip().split(':')\n",
        "    price = float(price)  # converting price string to float\n",
        "    # separating MM, DD, YYYY\n",
        "    m, d, y = date.split('-')\n",
        "    y = int(y)  # converting string year to int\n",
        "    # adding year and price to dict AND incrementing count of year\n",
        "    if y in price_per_year.keys() and y in count_year.keys():\n",
        "        price_per_year[y] += price\n",
        "        count_year[y] += 1\n",
        "    else:\n",
        "        price_per_year[y] = price\n",
        "        count_year[y] = 1\n",
        "except IOError:\n",
        "    print('File not found. Please try again')\n",
        "\n",
        "file.close()  # closing the file\n",
        "# calculating and printing average\n",
        "for year in price_per_year:\n",
        "    average_price_per_year[year] = price_per_year[year] / count_year[year]\n",
        "    print('The average price in {} was {:.2f}'.format(year, average_price_per_year[year]))\n",
        "    \n",
        "print(\"___________________________________________________________________________________________________\")\n",
        "#Monthly\n",
        "# dict for price per month\n",
        "price_per_month = {}\n",
        "# dict for counting number of months\n",
        "count_month = {}\n",
        "# dict for count average per month\n",
        "average_price_per_year = {}\n",
        "# opening file\n",
        "try:\n",
        "  file = open('gasprices.txt')\n",
        "  # processing file data\n",
        "  for line in file.readlines():\n",
        "      # separating date and price\n",
        "      date, price = line.strip().split(':')\n",
        "      price = float(price)  # converting price string to float\n",
        "      # separating MM, DD, YYYY\n",
        "      m, d, y = date.split('-')\n",
        "      m = int(m)  # converting string year to int\n",
        "      # adding year and price to dict AND incrementing count of year\n",
        "      if m in price_per_month.keys() and m in count_month.keys():\n",
        "          price_per_month[m] += price\n",
        "          count_month[m] += 1\n",
        "      else:\n",
        "          price_per_month[m] = price\n",
        "          count_month[m] = 1\n",
        "except IOError:\n",
        "    print('File not found. Please try again')\n",
        "\n",
        "\n",
        "file.close()  # closing the file\n",
        "# calculating and printing average\n",
        "for month in price_per_month:\n",
        "    average_price_per_year[month] = price_per_month[month] / count_month[month]\n",
        "    print('The average price in {} was {:.2f}'.format(month, average_price_per_year[month]))\n"
      ]
    }
  ]
}