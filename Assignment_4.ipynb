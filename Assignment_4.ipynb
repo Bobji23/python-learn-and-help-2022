{
  "nbformat": 4,
  "nbformat_minor": 0,
  "metadata": {
    "colab": {
      "provenance": [],
      "authorship_tag": "ABX9TyPELHW68bIUhj7/ssJOH8v1",
      "include_colab_link": true
    },
    "kernelspec": {
      "name": "python3",
      "display_name": "Python 3"
    },
    "language_info": {
      "name": "python"
    }
  },
  "cells": [
    {
      "cell_type": "markdown",
      "metadata": {
        "id": "view-in-github",
        "colab_type": "text"
      },
      "source": [
        "<a href=\"https://colab.research.google.com/github/Bobji23/python-learn-and-help-2022/blob/main/Assignment_4.ipynb\" target=\"_parent\"><img src=\"https://colab.research.google.com/assets/colab-badge.svg\" alt=\"Open In Colab\"/></a>"
      ]
    },
    {
      "cell_type": "code",
      "execution_count": null,
      "metadata": {
        "colab": {
          "base_uri": "https://localhost:8080/"
        },
        "id": "tAzGUL8e1rCG",
        "outputId": "430b314f-5087-4e2f-beb6-3b3d5e6a7d58"
      },
      "outputs": [
        {
          "output_type": "stream",
          "name": "stdout",
          "text": [
            "Enter the dollar budget amount: 50\n",
            "Enter amount of expense in dolars: 50\n",
            "Enter \"yes\" to input any more expenses. :no\n",
            "0.0 You stayed in your budget. \n"
          ]
        }
      ],
      "source": [
        "######################################################\n",
        "# 4.3 Budget Analysis\n",
        "\n",
        "#Input\n",
        "\n",
        "budget = input(\"Enter the dollar budget amount: \")\n",
        "budget = float(budget)  # Convert to float\n",
        "\n",
        "#Outside loop variables\n",
        "total = 0 \n",
        "iteration = \"yes\"\n",
        "\n",
        "#Loop\n",
        "while iteration == \"yes\":\n",
        "    expense = input('Enter amount of expense in dolars: ')\n",
        "    expense = float(expense)\n",
        "    total += float(expense)\n",
        "    iteration = input('Enter \"yes\" to input any more expenses. :')\n",
        "    iteration = iteration.lower()\n",
        "\n",
        "if budget < expense:\n",
        "  print(budget - total, \"You went over your budget. \")\n",
        "else:\n",
        "  print(budget - total, \"You stayed in your budget. \")\n"
      ]
    },
    {
      "cell_type": "code",
      "source": [
        "###################################################\n",
        "# 4.4 Distance Traveled\n",
        "\n",
        "speed = input(\"Enter speed: \")\n",
        "speed = int(speed)\n",
        "\n",
        "hours = input(\"Enter amount of hours: \")\n",
        "hours = int(hours)\n",
        "iteration = 0\n",
        "if hours <= 0 or speed <= 0: \n",
        "  print('Invalid Hours and mph must be greater than 0')\n",
        "else:\n",
        "        while iteration < hours:\n",
        "            distance = speed * (iteration+1)\n",
        "\n",
        "            print(iteration + 1,':', distance)\n",
        "            iteration = iteration+1"
      ],
      "metadata": {
        "colab": {
          "base_uri": "https://localhost:8080/"
        },
        "id": "ksgMxkOX7Zzv",
        "outputId": "6659ebb9-e64d-4388-8009-cdfeff3930e5"
      },
      "execution_count": 5,
      "outputs": [
        {
          "output_type": "stream",
          "name": "stdout",
          "text": [
            "Enter speed: 30\n",
            "Enter amount of hours: 3\n",
            "1 : 30\n",
            "2 : 60\n",
            "3 : 90\n"
          ]
        }
      ]
    },
    {
      "cell_type": "code",
      "source": [
        "celsius = input(\"Enter celsius temprature: \")\n",
        "celsius = int(celsius)\n",
        "iteration = 0\n",
        "i = 0\n",
        "\n",
        "while iteration < celsius:\n",
        "  farheniet = (i *1.8)\n",
        "  farheniet = farheniet + 32\n",
        "  i = i+1\n",
        "  print(iteration + 1,':', round(farheniet))\n",
        "  #i = celsius * 2\n",
        "  iteration = iteration +1"
      ],
      "metadata": {
        "colab": {
          "base_uri": "https://localhost:8080/"
        },
        "id": "qJz4j4fTDDCw",
        "outputId": "65043d3b-39b2-44d2-f67f-796c48f8e0ab"
      },
      "execution_count": 8,
      "outputs": [
        {
          "output_type": "stream",
          "name": "stdout",
          "text": [
            "Enter celsius temprature: 30\n",
            "1 : 32\n"
          ]
        }
      ]
    },
    {
      "cell_type": "code",
      "source": [],
      "metadata": {
        "id": "KWj8xUKGCUha"
      },
      "execution_count": null,
      "outputs": []
    }
  ]
}