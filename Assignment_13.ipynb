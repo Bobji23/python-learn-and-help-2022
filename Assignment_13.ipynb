{
  "nbformat": 4,
  "nbformat_minor": 0,
  "metadata": {
    "colab": {
      "provenance": [],
      "authorship_tag": "ABX9TyMhDpO6XrEU+Zl9Ob9mJqx5",
      "include_colab_link": true
    },
    "kernelspec": {
      "name": "python3",
      "display_name": "Python 3"
    },
    "language_info": {
      "name": "python"
    }
  },
  "cells": [
    {
      "cell_type": "markdown",
      "metadata": {
        "id": "view-in-github",
        "colab_type": "text"
      },
      "source": [
        "<a href=\"https://colab.research.google.com/github/Bobji23/python-learn-and-help-2022/blob/main/Assignment_13.ipynb\" target=\"_parent\"><img src=\"https://colab.research.google.com/assets/colab-badge.svg\" alt=\"Open In Colab\"/></a>"
      ]
    },
    {
      "cell_type": "code",
      "execution_count": 25,
      "metadata": {
        "colab": {
          "base_uri": "https://localhost:8080/"
        },
        "id": "2iKEbBu3sHvj",
        "outputId": "21c9b270-c28f-4148-8f83-e34dbe5dc730"
      },
      "outputs": [
        {
          "output_type": "stream",
          "name": "stdout",
          "text": [
            "type of the data:  <class 'list'>\n",
            "Content (all_lines)\n",
            "Count of 'Papa': 3\n",
            "Count of 'Papa': 3\n",
            "Longest Line Count: 115\n",
            "Longest Line: Goldilocks was very tired by this time, so she went upstairs to the bedroom. She lay down in the first bed, but it\n",
            "\n",
            "Shortest Line Count: 7\n",
            "Shortest Line: THE END\n"
          ]
        }
      ],
      "source": [
        "#Assignment 13\n",
        "#Open File\n",
        "file_name = \"goldilocks.txt\"\n",
        "\n",
        "#Created Variables\n",
        "count_papa=0\n",
        "count_mama = 0\n",
        "max_length = 0\n",
        "max_len_line = ''\n",
        "min_length = 0\n",
        "min_len_line = ''\n",
        "\n",
        "# File Object for computer\n",
        "file_object = open(file_name)\n",
        "\n",
        "# Reading all lines in one go\n",
        "all_lines = file_object.readlines()\n",
        "\n",
        "# Look at the type of data\n",
        "print(\"type of the data: \", type(all_lines))\n",
        "print(\"Content (all_lines)\")\n",
        "# For loop through the text file\n",
        "for line_x in all_lines:\n",
        "  if 'Papa' in line_x:\n",
        "    count_papa = count_papa +1\n",
        "  if \"Mama\" in line_x:\n",
        "    count_mama = count_mama+1\n",
        "  if(len(line_x) > max_length):\n",
        "    max_length = len(line_x)\n",
        "    max_len_line = line_x\n",
        "#Output and print statements\n",
        "print(\"Count of 'Papa':\", count_papa)\n",
        "print(\"Count of 'Papa':\", count_mama)\n",
        "print(\"Longest Line Count:\", max_length)\n",
        "print(\"Longest Line:\", max_len_line)\n",
        "print(\"Shortest Line Count:\", len(min(all_lines, key=len)))\n",
        "print(\"Shortest Line:\", min(all_lines, key=len))\n",
        "\n",
        "#CLose the file\n",
        "file_object.close()"
      ]
    },
    {
      "cell_type": "code",
      "source": [],
      "metadata": {
        "id": "0Bbur6kfqcYT"
      },
      "execution_count": null,
      "outputs": []
    }
  ]
}