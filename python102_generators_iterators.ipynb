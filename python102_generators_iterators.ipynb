{
  "nbformat": 4,
  "nbformat_minor": 0,
  "metadata": {
    "colab": {
      "provenance": [],
      "toc_visible": true,
      "include_colab_link": true
    },
    "kernelspec": {
      "name": "python3",
      "display_name": "Python 3"
    },
    "language_info": {
      "name": "python"
    }
  },
  "cells": [
    {
      "cell_type": "markdown",
      "metadata": {
        "id": "view-in-github",
        "colab_type": "text"
      },
      "source": [
        "<a href=\"https://colab.research.google.com/github/Bobji23/python-learn-and-help-2022/blob/main/python102_generators_iterators.ipynb\" target=\"_parent\"><img src=\"https://colab.research.google.com/assets/colab-badge.svg\" alt=\"Open In Colab\"/></a>"
      ]
    },
    {
      "cell_type": "markdown",
      "source": [
        "# Generators and Iterators  (Master)\n",
        "\n",
        "- Generator function produces a sequence (always use \"yield\" keyword)\n",
        "- A regular function may or may not produce a sequence"
      ],
      "metadata": {
        "id": "qyc0B7DkcTe4"
      }
    },
    {
      "cell_type": "code",
      "source": [
        "#@title List is a generator by default\n",
        "my_list = [1, 4, 1, 5, 'a', 'b', True]\n",
        "\n",
        "for elem in my_list:\n",
        "  print(elem)\n",
        "\n",
        "\n",
        "# 1. How does python / my_list / for loop know where to start? where to stop?\n",
        "#  my_list is a generator\n",
        "# and for loop is an iterator"
      ],
      "metadata": {
        "id": "Z3BnelSrbxrN",
        "colab": {
          "base_uri": "https://localhost:8080/"
        },
        "outputId": "e578d472-88ef-4e6c-af56-aa6c241727b8"
      },
      "execution_count": null,
      "outputs": [
        {
          "output_type": "stream",
          "name": "stdout",
          "text": [
            "1\n",
            "4\n",
            "1\n",
            "5\n",
            "a\n",
            "b\n",
            "True\n"
          ]
        }
      ]
    },
    {
      "cell_type": "code",
      "source": [
        "#@title Revisting return\n",
        "def fun(n):\n",
        "    for i in range(n):\n",
        "        return n\n",
        "\n",
        "def fun(n):\n",
        "    for i in range(n):\n",
        "        return i\n",
        "\n",
        "# calling the function\n",
        "x = fun(10)\n",
        "print(x)"
      ],
      "metadata": {
        "colab": {
          "base_uri": "https://localhost:8080/"
        },
        "id": "88529YKg0Nqy",
        "outputId": "5797aa59-0a6c-432a-e42e-82886afe74c7"
      },
      "execution_count": null,
      "outputs": [
        {
          "output_type": "stream",
          "name": "stdout",
          "text": [
            "0\n"
          ]
        }
      ]
    },
    {
      "cell_type": "code",
      "source": [
        "#@title yield = a sibling of return but with memory\n",
        "def fun(n):\n",
        "    for i in range(n):\n",
        "        yield i\n",
        "\n",
        "print(\"Looping through a generator function\")\n",
        "for v in fun(5):\n",
        "    print(v, end  = \"\")\n",
        "\n",
        "print(\"\\n\\nLooping through a list\")\n",
        "my_list = [1, 2, 3, 4, 5]\n",
        "for v in my_list:\n",
        "  print(v, end = \"\")\n"
      ],
      "metadata": {
        "colab": {
          "base_uri": "https://localhost:8080/"
        },
        "id": "2IircJdB0D-k",
        "outputId": "c764f84b-be87-46bc-e8c7-5109535304f7"
      },
      "execution_count": null,
      "outputs": [
        {
          "output_type": "stream",
          "name": "stdout",
          "text": [
            "Looping through a generator function\n",
            "01234\n",
            "\n",
            "Looping through a list\n",
            "12345"
          ]
        }
      ]
    },
    {
      "cell_type": "code",
      "source": [
        "#@title yield will make a function a generator  (yield will always give a sequence)\n",
        "# inf_sequence( ) is a generator method\n",
        "def inf_sequence():\n",
        "    num = 1\n",
        "    while True:\n",
        "        yield num    #yield is similar to return; However, it remembers the preivous state\n",
        "        num += 1\n",
        "\n",
        "\n",
        "# You can now iterate over the sequence\n",
        "for i in inf_sequence():\n",
        "    print(i, end=\" \")\n",
        "    if i >= 101:\n",
        "      break"
      ],
      "metadata": {
        "colab": {
          "base_uri": "https://localhost:8080/"
        },
        "id": "573Rl9JpauBO",
        "outputId": "e70f20fa-ef1a-47cc-fcc3-6ec3595a932b"
      },
      "execution_count": null,
      "outputs": [
        {
          "output_type": "stream",
          "name": "stdout",
          "text": [
            "1 2 3 4 5 6 7 8 9 10 11 12 13 14 15 16 17 18 19 20 21 22 23 24 25 26 27 28 29 30 31 32 33 34 35 36 37 38 39 40 41 42 43 44 45 46 47 48 49 50 51 52 53 54 55 56 57 58 59 60 61 62 63 64 65 66 67 68 69 70 71 72 73 74 75 76 77 78 79 80 81 82 83 84 85 86 87 88 89 90 91 92 93 94 95 96 97 98 99 100 101 "
          ]
        }
      ]
    },
    {
      "cell_type": "code",
      "source": [
        "#@title yield in a function definition makes it a generator (Example 2)\n",
        "\n",
        "# A Python program to generate squares from 1\n",
        "# to 100 using yield and therefore generator\n",
        "\n",
        "# An infinite generator function that prints\n",
        "# next square number. It starts with 1\n",
        "def nextSquare():\n",
        "    i = 1\n",
        "\n",
        "    # An Infinite loop to generate squares\n",
        "    while True:\n",
        "        yield i * i\n",
        "        i += 1 # Next execution resumes from this point\n",
        "\n",
        "# Driver code\n",
        "# for num in range(5):\n",
        "# for num in [4, 5, 5, 2]:\n",
        "# for num in (2, 4, 3):\n",
        "for num in nextSquare():\n",
        "    if num > 1000:\n",
        "        break\n",
        "    print(num, end = ' ')"
      ],
      "metadata": {
        "colab": {
          "base_uri": "https://localhost:8080/"
        },
        "id": "xNp9TNrvbNcd",
        "outputId": "31088e7a-e8c2-4220-91de-140541883a60"
      },
      "execution_count": null,
      "outputs": [
        {
          "output_type": "stream",
          "name": "stdout",
          "text": [
            "1 4 9 16 25 36 49 64 81 100 121 144 169 196 225 256 289 324 361 400 441 484 529 576 625 676 729 784 841 900 961 "
          ]
        }
      ]
    },
    {
      "cell_type": "code",
      "source": [
        "#@title  Generators and Lists (comprehension and direct list)\n",
        "def powers_of_2(n):\n",
        "    power = 1\n",
        "    for i in range(n):\n",
        "        yield power\n",
        "        power *= 2\n",
        "\n",
        "print('The type of function: ', type(powers_of_2))\n",
        "\n",
        "print('\\nGetting the sequence one at a time')\n",
        "for v in powers_of_2(9):\n",
        "    print(v, end = ' ')\n",
        "\n",
        "print('\\n\\nlength of the sequence produced by the generator function')\n",
        "print(len(list(powers_of_2(5))))\n",
        "\n",
        "\n",
        "\n",
        "print('\\nGetting the sequence through list( ) method')\n",
        "#t = list(range(4))\n",
        "t = list(powers_of_2(10))\n",
        "print(type(t), t)\n",
        "\n",
        "x = powers_of_2(20)\n",
        "print(type(x), x)\n",
        "\n",
        "# Lesson take away:\n",
        "# 1. You need to convert a generator to a list.\n",
        "# or\n",
        "# 2. You need to loop through a generator sequence to get the values\n",
        "\n",
        "\n",
        "print('\\n\\nGetting the sequence through list comprehension')\n",
        "t = [x for x in powers_of_2(5)]\n",
        "print(type(t), t)\n",
        "\n"
      ],
      "metadata": {
        "colab": {
          "base_uri": "https://localhost:8080/"
        },
        "id": "3VcwrEk605VN",
        "outputId": "f83dd316-09e8-4ee7-c025-e9de5fb43383"
      },
      "execution_count": null,
      "outputs": [
        {
          "output_type": "stream",
          "name": "stdout",
          "text": [
            "The type of function:  <class 'function'>\n",
            "\n",
            "Getting the sequence one at a time\n",
            "1 2 4 8 16 32 64 128 256 \n",
            "\n",
            "length of the sequence produced by the generator function\n",
            "5\n",
            "\n",
            "Getting the sequence through list( ) method\n",
            "<class 'list'> [1, 2, 4, 8, 16, 32, 64, 128, 256, 512]\n",
            "<class 'generator'> <generator object powers_of_2 at 0x7dba299cf220>\n",
            "\n",
            "\n",
            "Getting the sequence through list comprehension\n",
            "<class 'list'> [1, 2, 4, 8, 16]\n"
          ]
        }
      ]
    },
    {
      "cell_type": "code",
      "source": [
        "#@title List Comprehension ==> generator  (Brackets vs Paranthesis)\n",
        "the_list = [x for x in range(10)]\n",
        "the_generator = (x for x in range(10))\n",
        "\n",
        "print('The list : ')\n",
        "for v in the_list:\n",
        "    print(v, end=\" \")\n",
        "print()\n",
        "\n",
        "print('The generator : ')\n",
        "for v in the_generator:\n",
        "    print(v, end=\" \")\n",
        "print()\n",
        "\n",
        "# What is the type?\n",
        "print('The type of the_list: ', type(the_list))\n",
        "print('The type of the_generator: ', type(the_generator))\n",
        "\n",
        "# What are the values?\n",
        "print('The values in the_list: ', (the_list))\n",
        "print('The values in the_generator: ', list(the_generator))  # convert it to a list to print the generator\n",
        "\n",
        "# What is the length of these?\n",
        "print('The length of the_list: ', len(the_list))\n",
        "#print('The length of the_generator: ', len(the_generator))\n"
      ],
      "metadata": {
        "colab": {
          "base_uri": "https://localhost:8080/",
          "height": 347
        },
        "id": "VJZ77eTF1APd",
        "outputId": "3c896c8c-fb74-4248-c360-775e79a1f48f"
      },
      "execution_count": null,
      "outputs": [
        {
          "output_type": "stream",
          "name": "stdout",
          "text": [
            "The list : \n",
            "0 1 2 3 4 5 6 7 8 9 \n",
            "The generator : \n",
            "0 1 2 3 4 5 6 7 8 9 \n",
            "The type of the_list:  <class 'list'>\n",
            "The type of the_generator:  <class 'generator'>\n",
            "The values in the_list:  [0, 1, 2, 3, 4, 5, 6, 7, 8, 9]\n",
            "The values in the_generator:  []\n",
            "The length of the_list:  10\n"
          ]
        },
        {
          "output_type": "error",
          "ename": "TypeError",
          "evalue": "object of type 'generator' has no len()",
          "traceback": [
            "\u001b[0;31m---------------------------------------------------------------------------\u001b[0m",
            "\u001b[0;31mTypeError\u001b[0m                                 Traceback (most recent call last)",
            "\u001b[0;32m<ipython-input-26-368f1223a807>\u001b[0m in \u001b[0;36m<cell line: 25>\u001b[0;34m()\u001b[0m\n\u001b[1;32m     23\u001b[0m \u001b[0;31m# What is the length of these?\u001b[0m\u001b[0;34m\u001b[0m\u001b[0;34m\u001b[0m\u001b[0m\n\u001b[1;32m     24\u001b[0m \u001b[0mprint\u001b[0m\u001b[0;34m(\u001b[0m\u001b[0;34m'The length of the_list: '\u001b[0m\u001b[0;34m,\u001b[0m \u001b[0mlen\u001b[0m\u001b[0;34m(\u001b[0m\u001b[0mthe_list\u001b[0m\u001b[0;34m)\u001b[0m\u001b[0;34m)\u001b[0m\u001b[0;34m\u001b[0m\u001b[0;34m\u001b[0m\u001b[0m\n\u001b[0;32m---> 25\u001b[0;31m \u001b[0mprint\u001b[0m\u001b[0;34m(\u001b[0m\u001b[0;34m'The length of the_generator: '\u001b[0m\u001b[0;34m,\u001b[0m \u001b[0mlen\u001b[0m\u001b[0;34m(\u001b[0m\u001b[0mthe_generator\u001b[0m\u001b[0;34m)\u001b[0m\u001b[0;34m)\u001b[0m\u001b[0;34m\u001b[0m\u001b[0;34m\u001b[0m\u001b[0m\n\u001b[0m",
            "\u001b[0;31mTypeError\u001b[0m: object of type 'generator' has no len()"
          ]
        }
      ]
    },
    {
      "cell_type": "code",
      "execution_count": null,
      "metadata": {
        "colab": {
          "base_uri": "https://localhost:8080/"
        },
        "id": "lTqjc7QQXbq9",
        "outputId": "2d1b81cd-1561-4b43-be2a-bd1a8308e05c"
      },
      "outputs": [
        {
          "output_type": "stream",
          "name": "stdout",
          "text": [
            "__init__ is called\n",
            "__repr__ is called\n",
            "Vowels representation:  Vowels (vow : aeiouy, pos : 0)\n",
            "Vowels String representation:  __str__ is called\n",
            "vowels: aeiouy  position: 0\n",
            "__iter__ is called\n",
            "__next__ is called\n",
            "a __next__ is called\n",
            "e __next__ is called\n",
            "i __next__ is called\n",
            "o __next__ is called\n",
            "u __next__ is called\n",
            "y __next__ is called\n"
          ]
        }
      ],
      "source": [
        "#@title __iter__ and __next__  these two dunder mehods will make a Class a generator\n",
        "\n",
        "class Vowels:\n",
        "    def __init__(self):\n",
        "        print('__init__ is called')\n",
        "        self.vow = \"aeiouy\"  # Yes, we know that y is not always considered a vowel.\n",
        "        self.pos = 0\n",
        "\n",
        "    def __repr__(self):\n",
        "      print('__repr__ is called')\n",
        "      temp_str = f'Vowels (vow : {self.vow}, pos : {self.pos})'\n",
        "      return temp_str\n",
        "\n",
        "    def __str__(self):\n",
        "      print('__str__ is called')\n",
        "      temp_str = 'vowels: ' + self.vow +  '  position: ' + str(self.pos)\n",
        "      return temp_str\n",
        "\n",
        "    # __iter__ is a magic method to create an \"Iterator\"\n",
        "    def __iter__(self):\n",
        "        print('__iter__ is called')\n",
        "        return self\n",
        "\n",
        "    # __next__ is a magic method to iterate over the current instance\n",
        "    def __next__(self):\n",
        "        print('__next__ is called')\n",
        "        if self.pos == len(self.vow):\n",
        "            raise StopIteration\n",
        "        self.pos += 1\n",
        "        return self.vow[self.pos - 1]\n",
        "\n",
        "\n",
        "# create vowels instance\n",
        "vowels_1 = Vowels()\n",
        "\n",
        "print('Vowels representation: ', repr(vowels_1))  # calls __repr__ magic method\n",
        "print('Vowels String representation: ', vowels_1) # calls __str__ magic method\n",
        "\n",
        "\n",
        "# iterate over vowels instance (which became a generator because of the magic methods __iter__ and __next__)\n",
        "for v in vowels_1:\n",
        "    print(v, end = ' ')"
      ]
    },
    {
      "cell_type": "code",
      "source": [
        "#@title Fibonacci Sequence (which method is going to be called first?)\n",
        "class Fib:\n",
        "    def __init__(self, nn):\n",
        "       # print(\"__init__\")\n",
        "        self.__n = nn\n",
        "        self.__i = 0\n",
        "        self.__p1 = self.__p2 = 1\n",
        "\n",
        "    ''' __iter__() which should return the object itself and which is invoked once\n",
        "       (it's needed for Python to successfully start the iteration)'''\n",
        "    def __iter__(self):\n",
        "        #print(\"__iter__\")\n",
        "        return self\n",
        "\n",
        "    ''' __next__() which is intended to return the next value (first, second, and so on) of the desired series.\n",
        "        It will be invoked by the for/in statements in order to pass through the next iteration;\n",
        "        if there are no more values to provide, the method should raise the StopIteration exception.\n",
        "    '''\n",
        "    def __next__(self):\n",
        "        #print(\"__next__\")\n",
        "        self.__i += 1\n",
        "        if self.__i > self.__n:\n",
        "            raise StopIteration\n",
        "        if self.__i in [1, 2]:\n",
        "            return 1\n",
        "        ret = self.__p1 + self.__p2\n",
        "        self.__p1, self.__p2 = self.__p2, ret\n",
        "        return ret\n",
        "\n",
        "\n",
        "# Get the first 10 numbers in Fib sequence\n",
        "for i in Fib(10):\n",
        "    print(i, end = ' ')"
      ],
      "metadata": {
        "colab": {
          "base_uri": "https://localhost:8080/"
        },
        "id": "UKhev-DuyPd9",
        "outputId": "76a8b4f8-2d8f-471a-d611-3b24a2caeb27"
      },
      "execution_count": null,
      "outputs": [
        {
          "output_type": "stream",
          "name": "stdout",
          "text": [
            "1 1 2 3 5 8 13 21 34 55 "
          ]
        }
      ]
    },
    {
      "cell_type": "code",
      "source": [
        "#@title Adding an interator as a property to another class\n",
        "class Fib:\n",
        "    def __init__(self, nn):\n",
        "        self.__n = nn\n",
        "        self.__i = 0\n",
        "        self.__p1 = self.__p2 = 1\n",
        "\n",
        "    def __iter__(self):\n",
        "        print(\"Fib iter\")\n",
        "        return self\n",
        "\n",
        "    def __next__(self):\n",
        "        self.__i += 1\n",
        "        if self.__i > self.__n:\n",
        "            raise StopIteration\n",
        "        if self.__i in [1, 2]:\n",
        "            return 1\n",
        "        ret = self.__p1 + self.__p2\n",
        "        self.__p1, self.__p2 = self.__p2, ret\n",
        "        return ret\n",
        "\n",
        "class FibIterator:\n",
        "    def __init__(self, n):\n",
        "        self.__iter = Fib(n)\n",
        "\n",
        "    def __iter__(self):\n",
        "        print(\"Class iter\")\n",
        "        return self.__iter;\n",
        "\n",
        "# create a FibIterator\n",
        "fib_seq_8 = FibIterator(8)\n",
        "\n",
        "for i in fib_seq_8:\n",
        "    print(i, end = ' ')\n"
      ],
      "metadata": {
        "colab": {
          "base_uri": "https://localhost:8080/"
        },
        "id": "EgCH6d1GzboV",
        "outputId": "a4a9f235-57d8-4abe-e855-d0f7591f9a7c"
      },
      "execution_count": null,
      "outputs": [
        {
          "output_type": "stream",
          "name": "stdout",
          "text": [
            "Class iter\n",
            "1 1 2 3 5 8 13 21 "
          ]
        }
      ]
    },
    {
      "cell_type": "markdown",
      "source": [
        "# Example: Creating your own iterator\n",
        "\n",
        "```\n",
        "Make CarsCollection class as a generator by adding __iter__ and __next functions.\n",
        "\n",
        "Loop through an instance of cars_collection, and print the details of each car in a loop\n",
        "```\n",
        "\n"
      ],
      "metadata": {
        "id": "n6CsbIQkmzXO"
      }
    },
    {
      "cell_type": "code",
      "source": [
        "#@title Car class\n",
        "class Car:\n",
        "  def __init__(self, car_name, fuel_capacity, mileage, gas_level):\n",
        "    self.carName = car_name\n",
        "    self.fuelCapacity = fuel_capacity\n",
        "    self.mileage = mileage\n",
        "    self.gasLevel = gas_level\n",
        "\n",
        "\n",
        "  def get_CarName():\n",
        "    return self.carName\n",
        "\n",
        "  def get_FuelCapacity():\n",
        "    return self.fuelCapacity\n",
        "\n",
        "  def get_Mileage():\n",
        "    return self.mileage\n",
        "\n",
        "  def get_GasLevel():\n",
        "    return self.gasLevel\n",
        "\n",
        "  def __repr__(self):\n",
        "    car_details_str = ('\\nName: ' + self.carName +\n",
        "                     '\\nFuel Capacity: ' + str(self.fuelCapacity) +\n",
        "                     '\\nMilage: ' + str(self.mileage) +\n",
        "                     '\\nCurrent Gas Level: ' + str(self.gasLevel))\n",
        "    return car_details_str\n",
        "\n",
        "\n",
        "\n",
        "\n",
        "\n",
        "# create a bunch of cars\n",
        "print(\"\\nCreating Mom's Car\")\n",
        "moms_car = Car('Volvo', 50, 20, 50)\n",
        "print(moms_car)\n",
        "\n",
        "# TODO: create dad's car\n",
        "print(\"\\nCreating Dad's Car\")\n",
        "dads_car = Car('Honda', 48, 23, 50)\n",
        "print(dads_car)\n",
        "\n",
        "\n",
        "# TODO: create an old car\n",
        "print(\"\\nCreating an old Car\")\n",
        "old_car = Car('Acura', 23, 10, 60)\n",
        "print(old_car)\n",
        "\n",
        "# TODO: create a new car\n",
        "print(\"\\nCreating a new Car\")\n",
        "new_car = Car('Tesla', 0, 30, 60)\n",
        "print(new_car)\n"
      ],
      "metadata": {
        "colab": {
          "base_uri": "https://localhost:8080/"
        },
        "id": "ocyS-EN1nRqb",
        "outputId": "7cb15085-e4cc-4dbc-eed5-c27a9588404b"
      },
      "execution_count": null,
      "outputs": [
        {
          "output_type": "stream",
          "name": "stdout",
          "text": [
            "\n",
            "Creating Mom's Car\n",
            "\n",
            "Name: Volvo\n",
            "Fuel Capacity: 50\n",
            "Milage: 20\n",
            "Current Gas Level: 50\n",
            "\n",
            "Creating Dad's Car\n",
            "\n",
            "Name: Honda\n",
            "Fuel Capacity: 48\n",
            "Milage: 23\n",
            "Current Gas Level: 50\n",
            "\n",
            "Creating an old Car\n",
            "\n",
            "Name: Acura\n",
            "Fuel Capacity: 23\n",
            "Milage: 10\n",
            "Current Gas Level: 60\n",
            "\n",
            "Creating a new Car\n",
            "\n",
            "Name: Tesla\n",
            "Fuel Capacity: 0\n",
            "Milage: 30\n",
            "Current Gas Level: 60\n"
          ]
        }
      ]
    },
    {
      "cell_type": "code",
      "source": [
        "#@title 'Cars Collection' (without generator functions)\n",
        "class Cars_Collection:\n",
        "\n",
        "    def __init__(self, some_collection = []):\n",
        "        self.cars_list = some_collection\n",
        "\n",
        "    def __repr__(self):\n",
        "        for car in self.cars_list:\n",
        "          print(car)\n",
        "\n",
        "        return 'Cars in cars_list are printed'\n",
        "\n",
        "    def add(self, some_car):\n",
        "        self.cars_list.append(some_car)\n",
        "\n",
        "    def remove(self, some_car):\n",
        "        # find the car from the collection and remove it;\n",
        "        # return true\n",
        "        # if there is no car with that name, returnf alse\n",
        "        if some_car in self.cars_list:\n",
        "          self.cars_list.remove(some_car)\n",
        "\n",
        "    def sort(self):\n",
        "        # sort the cars in the collection by the mileage\n",
        "        #self.cards_list.sort()\n",
        "        pass\n",
        "\n",
        "\t\t# this method returns a car with highest mileage\n",
        "    def get_car_with_highest_mileage(self):\n",
        "       pass\n",
        "\n",
        "\n",
        "# all testing happens here\n",
        "car1 = Car('Honda', 50, 24, 50)\n",
        "car2 = Car('Kia', 70, 20, 50)\n",
        "\n",
        "# printing the cars collection through __repr__ or __str__ method\n",
        "cars_list = [moms_car, dads_car, old_car, new_car, car1, car2]\n",
        "car_dealer_collection = Cars_Collection(cars_list)\n",
        "print(car_dealer_collection)\n",
        "\n",
        "\n",
        "\n",
        "\n",
        "\n",
        "\n"
      ],
      "metadata": {
        "colab": {
          "base_uri": "https://localhost:8080/"
        },
        "id": "tO39TZk8zwy4",
        "outputId": "8151747b-9794-4523-bf84-f683bd51f60f"
      },
      "execution_count": null,
      "outputs": [
        {
          "output_type": "stream",
          "name": "stdout",
          "text": [
            "\n",
            "Name: Volvo\n",
            "Fuel Capacity: 50\n",
            "Milage: 20\n",
            "Current Gas Level: 50\n",
            "\n",
            "Name: Honda\n",
            "Fuel Capacity: 48\n",
            "Milage: 23\n",
            "Current Gas Level: 50\n",
            "\n",
            "Name: Acura\n",
            "Fuel Capacity: 23\n",
            "Milage: 10\n",
            "Current Gas Level: 60\n",
            "\n",
            "Name: Tesla\n",
            "Fuel Capacity: 0\n",
            "Milage: 30\n",
            "Current Gas Level: 60\n",
            "\n",
            "Name: Honda\n",
            "Fuel Capacity: 50\n",
            "Milage: 24\n",
            "Current Gas Level: 50\n",
            "\n",
            "Name: Kia\n",
            "Fuel Capacity: 70\n",
            "Milage: 20\n",
            "Current Gas Level: 50\n",
            "Cars in cars_list are printed\n"
          ]
        }
      ]
    },
    {
      "cell_type": "code",
      "source": [
        "#@title 'Cars Collection' class as a generator (with iter and next magic methods)\n",
        "class Cars_Collection:\n",
        "\n",
        "    def __init__(self, some_collection = []):\n",
        "        self.cars_list = some_collection\n",
        "        self.pos = 0\n",
        "\n",
        "    # def __repr__(self):\n",
        "    #     for car in self.cars_list:\n",
        "    #       print(car)\n",
        "\n",
        "    #     return 'Cars in cars_list are printed'\n",
        "\n",
        "    def add(self, some_car):\n",
        "        self.cars_list.append(some_car)\n",
        "\n",
        "    def remove(self, some_car):\n",
        "        # find the car from the collection and remove it;\n",
        "        # return true\n",
        "        # if there is no car with that name, returnf alse\n",
        "        if some_car in self.cars_list:\n",
        "          self.cars_list.remove(some_car)\n",
        "\n",
        "    def sort(self):\n",
        "        # sort the cars in the collection by the mileage\n",
        "        #self.cards_list.sort()\n",
        "        pass\n",
        "\n",
        "\t\t# this method returns a car with highest mileage\n",
        "    def get_car_with_highest_mileage(self):\n",
        "       pass\n",
        "\n",
        "    def __iter__(self):\n",
        "        print(\"Cars Collection iterator\")\n",
        "        return self\n",
        "\n",
        "    def __next__(self):\n",
        "        print(\"iterating over the cars collection\")\n",
        "        if self.pos >= len(self.cars_list):\n",
        "            raise StopIteration\n",
        "        car_to_be_returned = self.cars_list[self.pos]\n",
        "        self.pos += 1\n",
        "        return car_to_be_returned\n",
        "\n",
        "\n",
        "# all testing happens here\n",
        "car1 = Car('Honda', 50, 24, 50)\n",
        "car2 = Car('Kia', 70, 20, 50)\n",
        "\n",
        "cars_list = [moms_car, dads_car, old_car, new_car, car1, car2]\n",
        "# car_dealer_collection = Cars_Collection(cars_list)\n",
        "# print(car_dealer_collection)\n",
        "\n",
        "# Create a brand new cars collection\n",
        "cars_collection_2 = Cars_Collection(cars_list)\n",
        "\n",
        "# printing the cars collection by making the cars_collection as a generator\n",
        "for elem in cars_collection_2:\n",
        "  print(elem)\n"
      ],
      "metadata": {
        "colab": {
          "base_uri": "https://localhost:8080/"
        },
        "id": "937pK_uYnzO1",
        "outputId": "d93e56f3-88f7-4340-e9b5-cabb0cccfe84"
      },
      "execution_count": null,
      "outputs": [
        {
          "output_type": "stream",
          "name": "stdout",
          "text": [
            "Cars Collection iterator\n",
            "iterating over the cars collection\n",
            "\n",
            "Name: Volvo\n",
            "Fuel Capacity: 50\n",
            "Milage: 20\n",
            "Current Gas Level: 50\n",
            "iterating over the cars collection\n",
            "\n",
            "Name: Honda\n",
            "Fuel Capacity: 48\n",
            "Milage: 23\n",
            "Current Gas Level: 50\n",
            "iterating over the cars collection\n",
            "\n",
            "Name: Acura\n",
            "Fuel Capacity: 23\n",
            "Milage: 10\n",
            "Current Gas Level: 60\n",
            "iterating over the cars collection\n",
            "\n",
            "Name: Tesla\n",
            "Fuel Capacity: 0\n",
            "Milage: 30\n",
            "Current Gas Level: 60\n",
            "iterating over the cars collection\n",
            "\n",
            "Name: Honda\n",
            "Fuel Capacity: 50\n",
            "Milage: 24\n",
            "Current Gas Level: 50\n",
            "iterating over the cars collection\n",
            "\n",
            "Name: Kia\n",
            "Fuel Capacity: 70\n",
            "Milage: 20\n",
            "Current Gas Level: 50\n",
            "iterating over the cars collection\n"
          ]
        }
      ]
    },
    {
      "cell_type": "markdown",
      "source": [
        "#Excercise: Book and Book_Case classes\n",
        "\n",
        "In this exercise, you will do the following.\n",
        "\n",
        "1. Create a Book class with two variables (title and author)\n",
        "2. Create a Book_Collection class with one varaible (books_list)\n",
        "3. Enable add_book() and remove_book() functions in Book_Case class\n",
        "4. Make Book_Collection as an iterator (aka generator) by adding __iter__ and __next__ magic methods.\n",
        "5. Make sure that you do NOT have __str__ or __repr__ methods in Book_Collection class (this is intentional to ensure that your iterator is coming into play)\n",
        "6. Create 5 books and add those to the Book_Collection\n",
        "7. Iterate over the books in the Book_Collection using the for loop (your iterator should come into play here)\n",
        "\n",
        "If you have any questions, please see \"Car\" and \"Cars_Collection\" classes in the previous example.\n"
      ],
      "metadata": {
        "id": "VGgL-sbNkWVA"
      }
    },
    {
      "cell_type": "code",
      "source": [
        "class Book:\n",
        "    def __init__(self, title, author):\n",
        "        self.title = title\n",
        "        self.author = author\n",
        "\n",
        "class Book_Collection:\n",
        "    def __init__(self):\n",
        "        self.books_list = []\n",
        "\n",
        "    def add_book(self, book):\n",
        "        self.books_list.append(book)\n",
        "\n",
        "    def remove_book(self, book):\n",
        "        self.books_list.remove(book)\n",
        "\n",
        "    def __iter__(self):\n",
        "        self.index = 0\n",
        "        return self\n",
        "\n",
        "    def __next__(self):\n",
        "        if self.index < len(self.books_list):\n",
        "            current_book = self.books_list[self.index]\n",
        "            self.index += 1\n",
        "            return current_book\n",
        "        else:\n",
        "            raise StopIteration\n",
        "\n",
        "# Creating Book objects\n",
        "book1 = Book(\"The Great Gatsby\", \"F. Scott Fitzgerald\")\n",
        "book2 = Book(\"To Kill a Mockingbird\", \"Harper Lee\")\n",
        "book3 = Book(\"1984\", \"George Orwell\")\n",
        "book4 = Book(\"Pride and Prejudice\", \"Jane Austen\")\n",
        "book5 = Book(\"The Catcher in the Rye\", \"J.D. Salinger\")\n",
        "\n",
        "# Creating Book_Collection object\n",
        "book_collection = Book_Collection()\n",
        "\n",
        "# Adding books to the collection\n",
        "book_collection.add_book(book1)\n",
        "book_collection.add_book(book2)\n",
        "book_collection.add_book(book3)\n",
        "book_collection.add_book(book4)\n",
        "book_collection.add_book(book5)\n",
        "\n",
        "# Iterating over the books in the collection using a for loop\n",
        "for book in book_collection:\n",
        "    print(\"Title:\", book.title, \"- Author:\", book.author)\n"
      ],
      "metadata": {
        "id": "Ovi_TQggf2yS"
      },
      "execution_count": null,
      "outputs": []
    }
  ]
}