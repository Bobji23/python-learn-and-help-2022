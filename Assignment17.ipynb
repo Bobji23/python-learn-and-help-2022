{
  "nbformat": 4,
  "nbformat_minor": 0,
  "metadata": {
    "colab": {
      "provenance": [],
      "authorship_tag": "ABX9TyPj08bQxCIWzfMc3A1bBB2+",
      "include_colab_link": true
    },
    "kernelspec": {
      "name": "python3",
      "display_name": "Python 3"
    },
    "language_info": {
      "name": "python"
    }
  },
  "cells": [
    {
      "cell_type": "markdown",
      "metadata": {
        "id": "view-in-github",
        "colab_type": "text"
      },
      "source": [
        "<a href=\"https://colab.research.google.com/github/Bobji23/python-learn-and-help-2022/blob/main/Assignment17.ipynb\" target=\"_parent\"><img src=\"https://colab.research.google.com/assets/colab-badge.svg\" alt=\"Open In Colab\"/></a>"
      ]
    },
    {
      "cell_type": "code",
      "execution_count": null,
      "metadata": {
        "id": "Lwy9HjWoShtZ"
      },
      "outputs": [],
      "source": [
        "# Open the input file in read mode\n",
        "with open('input.txt', 'r') as file:\n",
        "\n",
        "    # Initialize an empty dictionary\n",
        "    word_freq = {}\n",
        "\n",
        "    # Loop over each line in the file\n",
        "    for line in file:\n",
        "\n",
        "        # Split the line into words\n",
        "        words = line.split()\n",
        "\n",
        "        # Loop over each word in the line\n",
        "        for word in words:\n",
        "\n",
        "            # If the word is already in the dictionary, increment the count\n",
        "            if word in word_freq:\n",
        "                word_freq[word] += 1\n",
        "\n",
        "            # Otherwise, add the word to the dictionary with count 1\n",
        "            else:\n",
        "                word_freq[word] = 1\n",
        "\n",
        "    # Print the frequency table\n",
        "    print(\"Frequency Table\")\n",
        "    for word, freq in word_freq.items():\n",
        "        print(word, freq)\n"
      ]
    }
  ]
}