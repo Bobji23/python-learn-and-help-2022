{
  "nbformat": 4,
  "nbformat_minor": 0,
  "metadata": {
    "colab": {
      "provenance": [],
      "authorship_tag": "ABX9TyOQXPT27Oakse7/j3Cxy123",
      "include_colab_link": true
    },
    "kernelspec": {
      "name": "python3",
      "display_name": "Python 3"
    },
    "language_info": {
      "name": "python"
    }
  },
  "cells": [
    {
      "cell_type": "markdown",
      "metadata": {
        "id": "view-in-github",
        "colab_type": "text"
      },
      "source": [
        "<a href=\"https://colab.research.google.com/github/Bobji23/python-learn-and-help-2022/blob/main/Assignment_6.ipynb\" target=\"_parent\"><img src=\"https://colab.research.google.com/assets/colab-badge.svg\" alt=\"Open In Colab\"/></a>"
      ]
    },
    {
      "cell_type": "code",
      "execution_count": 1,
      "metadata": {
        "colab": {
          "base_uri": "https://localhost:8080/"
        },
        "id": "bnp0aJIxhXbM",
        "outputId": "4e458870-8393-4055-b4d0-12f66463b512"
      },
      "outputs": [
        {
          "output_type": "stream",
          "name": "stdout",
          "text": [
            "#@title Address ['street', 'city', 'postal_code']\n",
            "class Address:\n",
            "\n",
            "# Defining the __init__ method\n",
            "\tdef __init__(self, street, city, postal_code):\n",
            "\t\tself.street = street\n",
            "\t\tself.city = city\n",
            "\t\tself.postal_code = postal_code\n",
            "\n",
            "\n",
            "# Defining the __repr__ method\n",
            "\tdef __repr__(self):\n",
            "\t\treturn f\"Address(street={self.street}, city={self.city}, postal_code={self.postal_code})\"\n",
            "\n",
            "\n",
            "# Defining the __str__ method\n",
            "\tdef __str__(self):\n",
            "\t\treturn f\"\\nAddress:\\nstreet: {self.street}\\ncity: {self.city}\\npostal_code: {self.postal_code}\"\n",
            "\n"
          ]
        }
      ],
      "source": [
        "# Function to generate the __init__ method code\n",
        "def get_init_code(property_list):\n",
        "    init_code = \"\\n\\n# Defining the __init__ method\"\n",
        "    init_code += f'\\n\\tdef __init__(self, {\", \".join(property_list)}):'\n",
        "\n",
        "    for prop in property_list:\n",
        "        init_code += f'\\n\\t\\tself.{prop} = {prop}'\n",
        "\n",
        "    init_code += '\\n'\n",
        "    return init_code\n",
        "\n",
        "# Function to generate the __repr__ method code\n",
        "def get_repr_code(class_name, property_list):\n",
        "    repr_code = \"\\n\\n# Defining the __repr__ method\"\n",
        "    repr_code += f'\\n\\tdef __repr__(self):'\n",
        "    repr_code += f'\\n\\t\\treturn f\"{class_name}('\n",
        "\n",
        "    for prop in property_list:\n",
        "        repr_code += f'{prop}={{self.{prop}}}, '\n",
        "\n",
        "    repr_code = repr_code[:-2]  # Remove the trailing comma and space\n",
        "    repr_code += ')\"'\n",
        "\n",
        "    repr_code += '\\n'\n",
        "    return repr_code\n",
        "\n",
        "# Function to generate the __str__ method code\n",
        "def get_str_code(class_name, property_list):\n",
        "    str_code = \"\\n\\n# Defining the __str__ method\"\n",
        "    str_code += f'\\n\\tdef __str__(self):'\n",
        "    str_code += f'\\n\\t\\treturn f\"\\\\n{class_name}:'\n",
        "\n",
        "    for prop in property_list:\n",
        "        str_code += f'\\\\n{prop}: {{self.{prop}}}'\n",
        "\n",
        "    str_code += '\"'\n",
        "\n",
        "    str_code += '\\n'\n",
        "    return str_code\n",
        "\n",
        "# Function to create the Python class\n",
        "def create_python_class(class_name, property_list):\n",
        "    python_code = f\"#@title {class_name} {property_list}\"\n",
        "    python_code += f\"\\nclass {class_name}:\"\n",
        "    python_code += get_init_code(property_list)\n",
        "    python_code += get_repr_code(class_name, property_list)\n",
        "    python_code += get_str_code(class_name, property_list)\n",
        "    return python_code\n",
        "\n",
        "# Set the class name and property list\n",
        "class_name = \"Address\"\n",
        "property_list = [\"street\", \"city\", \"postal_code\"]\n",
        "\n",
        "# Create the Python class code\n",
        "final_python_code = create_python_class(class_name, property_list)\n",
        "\n",
        "# Print the generated code to the console\n",
        "print(final_python_code)\n",
        "\n",
        "# Write the code to a file\n",
        "output_file_name = class_name + \".py\"\n",
        "output_file_obj = open(output_file_name, 'w')\n",
        "output_file_obj.write(final_python_code)\n",
        "output_file_obj.close()\n"
      ]
    }
  ]
}