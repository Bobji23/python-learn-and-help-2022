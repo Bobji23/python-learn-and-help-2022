{
  "nbformat": 4,
  "nbformat_minor": 0,
  "metadata": {
    "colab": {
      "provenance": [],
      "authorship_tag": "ABX9TyOkZ2twR5lzjVK6xmR6+8Gq",
      "include_colab_link": true
    },
    "kernelspec": {
      "name": "python3",
      "display_name": "Python 3"
    },
    "language_info": {
      "name": "python"
    }
  },
  "cells": [
    {
      "cell_type": "markdown",
      "metadata": {
        "id": "view-in-github",
        "colab_type": "text"
      },
      "source": [
        "<a href=\"https://colab.research.google.com/github/Bobji23/python-learn-and-help-2022/blob/main/Assignment_4.ipynb\" target=\"_parent\"><img src=\"https://colab.research.google.com/assets/colab-badge.svg\" alt=\"Open In Colab\"/></a>"
      ]
    },
    {
      "cell_type": "code",
      "execution_count": 3,
      "metadata": {
        "colab": {
          "base_uri": "https://localhost:8080/"
        },
        "id": "tAzGUL8e1rCG",
        "outputId": "430b314f-5087-4e2f-beb6-3b3d5e6a7d58"
      },
      "outputs": [
        {
          "output_type": "stream",
          "name": "stdout",
          "text": [
            "Enter the dollar budget amount: 50\n",
            "Enter amount of expense in dolars: 50\n",
            "Enter \"yes\" to input any more expenses. :no\n",
            "0.0 You stayed in your budget. \n"
          ]
        }
      ],
      "source": [
        "######################################################\n",
        "# 4.3 Budget Analysis\n",
        "\n",
        "#Input\n",
        "\n",
        "budget = input(\"Enter the dollar budget amount: \")\n",
        "budget = float(budget)  # Convert to float\n",
        "\n",
        "#Outside loop variables\n",
        "total = 0 \n",
        "iteration = \"yes\"\n",
        "\n",
        "#Loop\n",
        "while iteration == \"yes\":\n",
        "    expense = input('Enter amount of expense in dolars: ')\n",
        "    expense = float(expense)\n",
        "    total += float(expense)\n",
        "    iteration = input('Enter \"yes\" to input any more expenses. :')\n",
        "    iteration = iteration.lower()\n",
        "\n",
        "if budget < expense:\n",
        "  print(budget - total, \"You went over your budget. \")\n",
        "else:\n",
        "  print(budget - total, \"You stayed in your budget. \")\n"
      ]
    },
    {
      "cell_type": "code",
      "source": [
        "###################################################\n",
        "# 4.4 Distance Traveled\n",
        "\n",
        "speed = input(\"Enter speed: \")\n",
        "speed = int(speed)\n",
        "\n",
        "hours = input(\"Enter amount of hours: \")\n",
        "hours = int(hours)\n",
        "\n",
        "if hours <= 0 or speed <= 0: \n",
        "  print('Invalid Hours and mph must be greater than 0')\n",
        "else:\n",
        "        for hour in range(hours):\n",
        "            distance = speed * (hour+1)\n",
        "\n",
        "            print(hour + 1,':', distance)\n",
        "            hours = hours * 2"
      ],
      "metadata": {
        "colab": {
          "base_uri": "https://localhost:8080/"
        },
        "id": "ksgMxkOX7Zzv",
        "outputId": "da793c23-10f7-4792-d427-8baec4e62fc7"
      },
      "execution_count": 24,
      "outputs": [
        {
          "output_type": "stream",
          "name": "stdout",
          "text": [
            "Enter speed: 40\n",
            "Enter amount of hours: 3\n",
            "3 : 40\n",
            "3 : 80\n",
            "3 : 120\n"
          ]
        }
      ]
    },
    {
      "cell_type": "code",
      "source": [
        "celsius = input(\"Enter celsius temprature: \")\n",
        "celsius = int(celsius)\n",
        "\n",
        "for i in range(celsius):\n",
        "  farheniet = (i *1.8)\n",
        "  farheniet = farheniet + 32\n",
        "\n",
        "  print(i + 1,':', round(farheniet))\n",
        "  i = celsius * 2"
      ],
      "metadata": {
        "colab": {
          "base_uri": "https://localhost:8080/"
        },
        "id": "qJz4j4fTDDCw",
        "outputId": "4530ce5e-9768-4918-946e-a188d10d0637"
      },
      "execution_count": 30,
      "outputs": [
        {
          "output_type": "stream",
          "name": "stdout",
          "text": [
            "Enter celsius temprature: 10\n",
            "1 : 32\n",
            "2 : 34\n",
            "3 : 36\n",
            "4 : 37\n",
            "5 : 39\n",
            "6 : 41\n",
            "7 : 43\n",
            "8 : 45\n",
            "9 : 46\n",
            "10 : 48\n"
          ]
        }
      ]
    },
    {
      "cell_type": "code",
      "source": [],
      "metadata": {
        "id": "KWj8xUKGCUha"
      },
      "execution_count": null,
      "outputs": []
    }
  ]
}