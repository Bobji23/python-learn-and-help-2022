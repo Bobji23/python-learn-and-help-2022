{
  "nbformat": 4,
  "nbformat_minor": 0,
  "metadata": {
    "colab": {
      "provenance": [],
      "authorship_tag": "ABX9TyMQpC9HR7FeKwrlNvmaNgW9",
      "include_colab_link": true
    },
    "kernelspec": {
      "name": "python3",
      "display_name": "Python 3"
    },
    "language_info": {
      "name": "python"
    }
  },
  "cells": [
    {
      "cell_type": "markdown",
      "metadata": {
        "id": "view-in-github",
        "colab_type": "text"
      },
      "source": [
        "<a href=\"https://colab.research.google.com/github/Bobji23/python-learn-and-help-2022/blob/main/Assignment15.ipynb\" target=\"_parent\"><img src=\"https://colab.research.google.com/assets/colab-badge.svg\" alt=\"Open In Colab\"/></a>"
      ]
    },
    {
      "cell_type": "code",
      "execution_count": 18,
      "metadata": {
        "colab": {
          "base_uri": "https://localhost:8080/"
        },
        "id": "1E0wRFPdCjUz",
        "outputId": "b8fac1ab-044b-4abe-c187-bcbb8ea355d5"
      },
      "outputs": [
        {
          "output_type": "stream",
          "name": "stdout",
          "text": [
            "Enter a team name: New York Yankees\n",
            "The New York Yankees has won the World Series 26 time(s) from 1903 through 2009.\n"
          ]
        }
      ],
      "source": [
        "# Open the file and read the contents into a list\n",
        "try:\n",
        "  with open(\"WorldSeriesWinners.txt\") as file:\n",
        "    winners = file.read().splitlines()\n",
        "    # Get the user's input for the team name\n",
        "  team = input(\"Enter a team name: \")\n",
        "    # Count the number of times the team has won the World Series\n",
        "  count = 0\n",
        "  for winner in winners:\n",
        "    if winner == team:\n",
        "      count += 1\n",
        "      # Display the result\n",
        "  if count >=1:\n",
        "    print(\"The \"f\"{team} has won the World Series {count} time(s) from 1903 through 2009.\")\n",
        "  else:\n",
        "    print(f\"{team} has never won the World Series.\")\n",
        "\n",
        "except IOError:\n",
        "    print('File not found. Please try again')\n",
        "\n",
        "\n",
        "\n",
        "\n",
        "      "
      ]
    },
    {
      "cell_type": "code",
      "source": [
        "#@title 11.Lo Shu Magic Square\n",
        "\n",
        "'''\n",
        "The Lo Shu Magic Square is a grid with 3 rows and 3 columns. The Lo Shu Magic Square has the following properties:\n",
        "1. The grid contains the numbers 1 through 9 exactly.\n",
        "2. The sum of each row, each column, and each diagonal all add up to the same number.\n",
        "\n",
        "In a program you can simulate a magic square using a two-dimensional list. Write a function\n",
        "that accepts a two-dimensional list as an argument and determines whether the list is a Lo Shu\n",
        "Magic Square. Test the function in a program.\n",
        "'''\n",
        "\n",
        "# You need to write a function that tests whether a given 2_D list is a magic square or not. \n",
        "# If it is a magic square, the function returns TRUE; Otherwise it returns FALSE.\n",
        "# row, column, diagonal sum should all be equal for the matrix to become a magic square\n",
        "# takes in a matrix and returns True if it is a magic square\n",
        "# or False if it is not\n",
        "def is_magic_square(matrix):   \n",
        "  n = len(matrix)\n",
        "    # Check that the square is n x n\n",
        "  if not all(len(row) == n for row in matrix):\n",
        "        return False\n",
        "\n",
        "    # Check that all numbers are unique and in range 1 to n^2\n",
        "  nums = set(num for row in matrix for num in row)\n",
        "  if not nums == set(range(1, n**2 + 1)):\n",
        "      return False\n",
        "\n",
        "    # Check that the rows, columns, and diagonals have the same sum\n",
        "  magic_sum = n * (n**2 + 1) // 2\n",
        "  for i in range(n):\n",
        "    if sum(matrix[i]) != magic_sum:  # check rows\n",
        "      return False\n",
        "    if sum(matrix[j][i] for j in range(n)) != magic_sum:  # check columns\n",
        "      return False\n",
        "    if sum(matrix[i][i] for i in range(n)) != magic_sum:  # check diagonal\n",
        "      return False\n",
        "    if sum(matrix[i][n-1-i] for i in range(n)) != magic_sum:  # check other diagonal\n",
        "      return False\n",
        "\n",
        "    # If all checks passed, it's a Lo Shu Magic Square\n",
        "    return True\n",
        "\n",
        "\n",
        "''' \n",
        "A helper method for printing a matrix in pretty format\n",
        "'''\n",
        "def pretty_print(matrix):\n",
        "    print()\n",
        "    for row in matrix:\n",
        "        print(*row, sep=', ')\n",
        "    \n",
        "# ====================== Test Cases ==================\n",
        "\n",
        "# ====================== Test Case 1: positive\n",
        "a = [ [4,9,2], \n",
        "      [3,5,7],\n",
        "      [8,1,6] ]\n",
        "      \n",
        "check_a = is_magic_square(a)\n",
        "pretty_print(a)\n",
        "print(\"Is it magic square?\", check_a)\n",
        "\n",
        "# ====================== Test Case 2: negative\n",
        "\n",
        "# test the above method with differet test cases\n",
        "b = [ [2,3,4], \n",
        "      [5,6,7],\n",
        "      [1,8,9] ]\n",
        "\n",
        "check_b = is_magic_square(b)\n",
        "pretty_print(b)\n",
        "print(\"Is it magic square?\", check_b)\n",
        "\n",
        "# ====================== Test Case 3: negative\n",
        "c = [ [2,3,4, 10], \n",
        "      [5,6,7, 11],\n",
        "      [1,8,9, 12],\n",
        "      [56,23, 14, 13] ]\n",
        "\n",
        "check_c = is_magic_square(c)\n",
        "pretty_print(c)\n",
        "print(\"Is it magic square?\", check_c)\n",
        "\n",
        "# ====================== Test Case 4: positive\n",
        "d = [ [7, 12, 1, 14], \n",
        "      [2, 13, 8, 11],\n",
        "      [16, 3, 10, 5],\n",
        "      [9, 6, 15, 4] ]\n",
        "\n",
        "check_d = is_magic_square(d)\n",
        "pretty_print(d)\n",
        "print(\"Is it magic square?\", check_d)\n",
        "\n",
        "\n",
        "# ====================== Test Case 5: negative\n",
        "e = [ [5,6,7,10, 11],\n",
        "      [1,2,3, 12, 13],\n",
        "      [4,8,9, 14, 15],\n",
        "      [16, 17, 18, 19, 20],\n",
        "      [21, 22, 23, 24, 25]]\n",
        "\n",
        "check_e = is_magic_square(e)\n",
        "pretty_print(e)\n",
        "print(\"Is it magic square?\", check_e) \n",
        "\n",
        "\n",
        "# https://realpython.com/python-assert-statement/\n",
        "print(\"\\n\\n========================Test summary ===================\")\n",
        "try:\n",
        "  assert check_a == True\n",
        "  assert check_b == False\n",
        "  assert check_c == False\n",
        "  assert check_d == True\n",
        "  assert check_e == False\n",
        "except:\n",
        "  print('Some test cases failed! Try again')\n",
        "else:\n",
        "  print('All test cases passed! Congratulations')"
      ],
      "metadata": {
        "colab": {
          "base_uri": "https://localhost:8080/"
        },
        "id": "YiuBGrOplN5q",
        "outputId": "78ed4e5e-9a43-400c-8716-f3a5ea5fcf9a"
      },
      "execution_count": 8,
      "outputs": [
        {
          "output_type": "stream",
          "name": "stdout",
          "text": [
            "\n",
            "4, 9, 2\n",
            "3, 5, 7\n",
            "8, 1, 6\n",
            "Is it magic square? True\n",
            "\n",
            "2, 3, 4\n",
            "5, 6, 7\n",
            "1, 8, 9\n",
            "Is it magic square? False\n",
            "\n",
            "2, 3, 4, 10\n",
            "5, 6, 7, 11\n",
            "1, 8, 9, 12\n",
            "56, 23, 14, 13\n",
            "Is it magic square? False\n",
            "\n",
            "7, 12, 1, 14\n",
            "2, 13, 8, 11\n",
            "16, 3, 10, 5\n",
            "9, 6, 15, 4\n",
            "Is it magic square? True\n",
            "\n",
            "5, 6, 7, 10, 11\n",
            "1, 2, 3, 12, 13\n",
            "4, 8, 9, 14, 15\n",
            "16, 17, 18, 19, 20\n",
            "21, 22, 23, 24, 25\n",
            "Is it magic square? False\n",
            "\n",
            "\n",
            "========================Test summary ===================\n",
            "All test cases passed! Congratulations\n"
          ]
        }
      ]
    },
    {
      "cell_type": "code",
      "source": [],
      "metadata": {
        "colab": {
          "base_uri": "https://localhost:8080/"
        },
        "id": "FCvMGe9KFCfp",
        "outputId": "de26853d-279f-4660-eb70-ecbc32c34e3c"
      },
      "execution_count": 3,
      "outputs": [
        {
          "output_type": "stream",
          "name": "stdout",
          "text": [
            "The given square is a Lo Shu Magic Square.\n"
          ]
        }
      ]
    }
  ]
}