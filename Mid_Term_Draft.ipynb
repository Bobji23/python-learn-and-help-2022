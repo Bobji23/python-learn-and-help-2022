{
  "nbformat": 4,
  "nbformat_minor": 0,
  "metadata": {
    "colab": {
      "provenance": [],
      "authorship_tag": "ABX9TyOV91YHnvviib5EhbmzBDpj",
      "include_colab_link": true
    },
    "kernelspec": {
      "name": "python3",
      "display_name": "Python 3"
    },
    "language_info": {
      "name": "python"
    }
  },
  "cells": [
    {
      "cell_type": "markdown",
      "metadata": {
        "id": "view-in-github",
        "colab_type": "text"
      },
      "source": [
        "<a href=\"https://colab.research.google.com/github/Bobji23/python-learn-and-help-2022/blob/main/Mid_Term_Draft.ipynb\" target=\"_parent\"><img src=\"https://colab.research.google.com/assets/colab-badge.svg\" alt=\"Open In Colab\"/></a>"
      ]
    },
    {
      "cell_type": "code",
      "execution_count": 7,
      "metadata": {
        "colab": {
          "base_uri": "https://localhost:8080/"
        },
        "id": "4-NvW8hHxyyT",
        "outputId": "eb47a8ea-1b9c-4ac7-9ebc-d26416ce8604"
      },
      "outputs": [
        {
          "output_type": "stream",
          "name": "stdout",
          "text": [
            "Correct\n",
            "Correct\n",
            "Correct\n",
            "Incorrect\n",
            "Incorrect\n"
          ]
        }
      ],
      "source": [
        "def main_luhn_checksun(card_number):\n",
        "    def digits_of(n):\n",
        "        return [int(d) for d in str(n)]\n",
        "    digits = digits_of(card_number)\n",
        "    odd_digits = digits[-1::-2]\n",
        "    even_digits = digits[-2::-2]\n",
        "    check_for_sum = 0\n",
        "    check_for_sum += sum(odd_digits)\n",
        "    for x in even_digits:\n",
        "        check_for_sum += sum(digits_of(x*2))\n",
        "    if check_for_sum % 10 == 0:\n",
        "        print(\"Correct\")\n",
        "    else:\n",
        "        print(\"Incorrect\")\n",
        "    \n",
        "check_result = main_luhn_checksun(6011000000000004)\n",
        "\n",
        "check_result = main_luhn_checksun(79927398713)\n",
        "\n",
        "check_result = main_luhn_checksun(30000000000004)\n",
        "\n",
        "check_result = main_luhn_checksun(6911600873502604)\n",
        "\n",
        "check_result = main_luhn_checksun(1234567890)"
      ]
    }
  ]
}