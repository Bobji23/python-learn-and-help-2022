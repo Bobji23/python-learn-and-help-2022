{
  "nbformat": 4,
  "nbformat_minor": 0,
  "metadata": {
    "colab": {
      "provenance": [],
      "collapsed_sections": [],
      "include_colab_link": true
    },
    "kernelspec": {
      "name": "python3",
      "display_name": "Python 3"
    },
    "language_info": {
      "name": "python"
    }
  },
  "cells": [
    {
      "cell_type": "markdown",
      "metadata": {
        "id": "view-in-github",
        "colab_type": "text"
      },
      "source": [
        "<a href=\"https://colab.research.google.com/github/Bobji23/python-learn-and-help-2022/blob/main/Assignment_3.ipynb\" target=\"_parent\"><img src=\"https://colab.research.google.com/assets/colab-badge.svg\" alt=\"Open In Colab\"/></a>"
      ]
    },
    {
      "cell_type": "code",
      "execution_count": 12,
      "metadata": {
        "id": "KTeGPNp_Q47v",
        "colab": {
          "base_uri": "https://localhost:8080/",
          "height": 131
        },
        "outputId": "e9a1fad3-6f40-411c-b588-c8ae67989274"
      },
      "outputs": [
        {
          "output_type": "error",
          "ename": "SyntaxError",
          "evalue": "ignored",
          "traceback": [
            "\u001b[0;36m  File \u001b[0;32m\"<ipython-input-12-05c408c213eb>\"\u001b[0;36m, line \u001b[0;32m34\u001b[0m\n\u001b[0;31m    print(\"What you entered is equal to \", format(total_amount, ',.2f')), \"dollars. It is less than one dollar! Thank you for playing.\")\u001b[0m\n\u001b[0m                                                                                                                                       ^\u001b[0m\n\u001b[0;31mSyntaxError\u001b[0m\u001b[0;31m:\u001b[0m invalid syntax\n"
          ]
        }
      ],
      "source": [
        "##################################################################\n",
        "#Money Counting Game 3.1\n",
        "\n",
        "#Inputs\n",
        "\n",
        "pennies = input(\"Enter number of pennies: \")\n",
        "nickels = input(\"Enter number of nickels: \")\n",
        "dimes = input(\"Enter number of dimes: \")\n",
        "quarters = input(\"Enter number of quarters: \")\n",
        "\n",
        "# Convert to float\n",
        "pennies = int(pennies)\n",
        "nickels = int(nickels)\n",
        "dimes = int(dimes)\n",
        "quarters = int(quarters)\n",
        "\n",
        "#Convert amount of coins to how many cents/dollars\n",
        "pennies = pennies * 0.01\n",
        "nickels = nickels * 0.05\n",
        "dimes = dimes * 0.10\n",
        "quarters = quarters * 0.25\n",
        "\n",
        "total_amount = pennies + nickels + dimes + quarters  # Total amount of cents/dollars\n",
        "\n",
        "#Process it with if/else statements\n",
        "\n",
        "if total_amount == 1.00:\n",
        "    print(\"Congrats, you won! The amount entered is equal to one dollar.\")\n",
        "\n",
        "else:\n",
        "  print(\"Sorry, you lost!\")\n",
        "\n",
        "  if total_amount < 1.00:\n",
        "    print(\"What you entered is equal to \", format(total_amount, ',.2f'), \"dollars. It is less than one dollar! Thank you for playing.\")\n",
        "\n",
        "  else:\n",
        "    print(\"What you entered is equal to\", format(total_amount, ',.2f'), \"dollars. It is greater than one dollar! Thank you for playing.\")\n",
        "\n",
        "\n",
        "\n"
      ]
    },
    {
      "cell_type": "code",
      "source": [
        "###########################################\n",
        "# Book Club Points 3.11\n",
        "\n",
        "#Input\n",
        "\n",
        "number_of_books = input(\"Enter the number of books purchased this month: \")\n",
        "number_of_books = int(number_of_books)  # Convert to integer\n",
        "\n",
        "\n",
        "#Process it with if/else statements\n",
        "\n",
        "\n",
        "if number_of_books >= 0 and number_of_books <= 1:\n",
        "  print(\"You will be awarded 0 points.\")\n",
        "\n",
        "elif number_of_books >= 2 and number_of_books <= 3:\n",
        "  print(\"You will be awarded 5 points.\")\n",
        "\n",
        "elif number_of_books >= 4 and number_of_books <= 5:\n",
        "  print(\"You will be awarded 15 points.\")\n",
        "\n",
        "elif number_of_books >= 6 and number_of_books <= 7:\n",
        "  print(\"You will be awarded 30 points..\")\n",
        "\n",
        "elif number_of_books >= 8:\n",
        "  print(\"You will be awarded 60 points.\")\n",
        "\n",
        "else:\n",
        "  print(\"Your input is incorrect. Please try again.\")\n",
        "\n"
      ],
      "metadata": {
        "colab": {
          "base_uri": "https://localhost:8080/"
        },
        "id": "Oud0Yg_kEytv",
        "outputId": "c44f207c-5887-480d-8952-104004d852dd"
      },
      "execution_count": null,
      "outputs": [
        {
          "output_type": "stream",
          "name": "stdout",
          "text": [
            "Enter the number of books: 5\n",
            "You recieved 15 points this month.\n"
          ]
        }
      ]
    },
    {
      "cell_type": "code",
      "source": [
        "#########################################################\n",
        "# Time Calculator 3.15 Bonus\n",
        "\n",
        "seconds = input(\"Enter the number of seconds:\")\n",
        "seconds = int(seconds)\n",
        "\n",
        "if seconds >= 0 and seconds < 60:\n",
        "        print(\"Seconds = \", seconds)\n",
        "        \n",
        "elif seconds >= 60 and seconds < 3600:\n",
        "  minutes = format(seconds // 60)\n",
        "  seconds = format(seconds % 60)\n",
        "  print(\"Number of minutes = \", minutes, \"Number of seconds = \", seconds)\n",
        "          \n",
        "elif seconds >= 3600 and seconds < 86400:\n",
        "  hours = format(seconds // 3600)\n",
        "  minutes = format((seconds % 3600) // 60)\n",
        "  seconds = format((seconds % 3600) % 60)\n",
        "  print(\"Number of hours = ,\", hours, \"Number of minutes = \", minutes, \"Number of seconds = \", seconds)\n",
        "\n",
        "\n",
        "elif  seconds >= 86400:\n",
        "  days = format(seconds // 86400)\n",
        "  hours = format((seconds % 86400) // 3600)\n",
        "  minutes = format(((seconds % 86400) % 3600) // 60)\n",
        "  seconds = format(((seconds % 86400) % 3600) % 60)\n",
        "  print(\"Number of days =\", days, \"Number of hours = ,\", hours, \"Number of minutes = \", minutes, \"Number of seconds = \", seconds)\n",
        "  "
      ],
      "metadata": {
        "id": "zqW-8Y56NeYp",
        "colab": {
          "base_uri": "https://localhost:8080/"
        },
        "outputId": "241c9306-2720-4165-857d-d9095e1ad7a0"
      },
      "execution_count": 11,
      "outputs": [
        {
          "output_type": "stream",
          "name": "stdout",
          "text": [
            "Enter the number of seconds:4800000\n",
            "Number of days = 55 Number of hours = , 13 Number of minutes =  20 Number of seconds =  0\n"
          ]
        }
      ]
    }
  ]
}