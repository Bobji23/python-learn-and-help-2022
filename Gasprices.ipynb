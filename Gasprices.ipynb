{
  "nbformat": 4,
  "nbformat_minor": 0,
  "metadata": {
    "colab": {
      "provenance": [],
      "authorship_tag": "ABX9TyP3kWl+8R14JpQSVXEWW9/n",
      "include_colab_link": true
    },
    "kernelspec": {
      "name": "python3",
      "display_name": "Python 3"
    },
    "language_info": {
      "name": "python"
    }
  },
  "cells": [
    {
      "cell_type": "markdown",
      "metadata": {
        "id": "view-in-github",
        "colab_type": "text"
      },
      "source": [
        "<a href=\"https://colab.research.google.com/github/Bobji23/python-learn-and-help-2022/blob/main/Gasprices.ipynb\" target=\"_parent\"><img src=\"https://colab.research.google.com/assets/colab-badge.svg\" alt=\"Open In Colab\"/></a>"
      ]
    },
    {
      "cell_type": "code",
      "execution_count": 16,
      "metadata": {
        "colab": {
          "base_uri": "https://localhost:8080/"
        },
        "id": "QDcMhkxs2Mgl",
        "outputId": "18b4c2d1-45e5-405f-bd35-2bd78d0da224"
      },
      "outputs": [
        {
          "output_type": "stream",
          "name": "stdout",
          "text": [
            "Read gas prices: 0.001 seconds\n",
            "Average price per year: 0.006 seconds\n",
            "{1993: 1.07, 1994: 1.08, 1995: 1.16, 1996: 1.24, 1997: 1.24, 1998: 1.07, 1999: 1.18, 2000: 1.52, 2001: 1.46, 2002: 1.39, 2003: 1.6, 2004: 1.89, 2005: 2.31, 2006: 2.62, 2007: 2.84, 2008: 3.3, 2009: 2.41, 2010: 2.84, 2011: 3.58, 2012: 3.68, 2013: 3.65}\n",
            "Average price per year: 0.006 seconds\n",
            "{1993: 1.07, 1994: 1.08, 1995: 1.16, 1996: 1.24, 1997: 1.24, 1998: 1.07, 1999: 1.18, 2000: 1.52, 2001: 1.46, 2002: 1.39, 2003: 1.6, 2004: 1.89, 2005: 2.31, 2006: 2.62, 2007: 2.84, 2008: 3.3, 2009: 2.41, 2010: 2.84, 2011: 3.58, 2012: 3.68, 2013: 3.65}\n",
            "Average price per month: 0.003 seconds\n",
            "{1: 1.9, 2: 1.95, 3: 2.04, 4: 2.12, 5: 2.14, 6: 2.16, 7: 2.15, 8: 2.13, 9: 2.07, 10: 2.03, 11: 1.92, 12: 1.86}\n",
            "Highest and lowest prices per year: 0.005 seconds\n",
            "{1993: (('05-31-1993', 1.107), ('12-27-1993', 0.999)), 1994: (('08-22-1994', 1.165), ('01-03-1994', 0.992)), 1995: (('05-29-1995', 1.246), ('11-20-1995', 1.106)), 1996: (('05-20-1996', 1.33), ('02-12-1996', 1.126)), 1997: (('08-25-1997', 1.288), ('12-29-1997', 1.158)), 1998: (('01-05-1998', 1.148), ('12-28-1998', 0.979)), 1999: (('11-29-1999', 1.315), ('02-22-1999', 0.949)), 2000: (('06-19-2000', 1.711), ('01-10-2000', 1.304)), 2001: (('05-14-2001', 1.748), ('12-17-2001', 1.101)), 2002: (('10-21-2002', 1.499), ('01-28-2002', 1.142)), 2003: (('08-25-2003', 1.787), ('01-06-2003', 1.487)), 2004: (('05-24-2004', 2.104), ('01-05-2004', 1.552)), 2005: (('09-05-2005', 3.117), ('01-03-2005', 1.824)), 2006: (('08-07-2006', 3.083), ('11-06-2006', 2.246)), 2007: (('05-21-2007', 3.258), ('01-29-2007', 2.213)), 2008: (('07-07-2008', 4.165), ('12-29-2008', 1.67)), 2009: (('11-02-2009', 2.746), ('01-05-2009', 1.737)), 2010: (('12-27-2010', 3.106), ('02-15-2010', 2.664)), 2011: (('05-09-2011', 4.018), ('01-03-2011', 3.124)), 2012: (('04-09-2012', 3.997), ('12-17-2012', 3.324)), 2013: (('02-25-2013', 3.851), ('01-07-2013', 3.373))}\n",
            "Generated list of prices, lowest to highest: 0.001 seconds\n",
            "Generated list of prices, highest to lowest: 0.001 seconds\n"
          ]
        }
      ],
      "source": [
        "import time\n",
        "\n",
        "# Function to read gas prices from file\n",
        "def read_gas_prices():\n",
        "    gas_prices = []\n",
        "    with open('GasPrices.txt', 'r') as f:\n",
        "        for line in f:\n",
        "            date, price = line.strip().split(':')\n",
        "            gas_prices.append((date, float(price)))\n",
        "    return gas_prices\n",
        "\n",
        "# Function to get average price per year\n",
        "def get_average_price_per_year(gas_prices):\n",
        "    start_year = 1993\n",
        "    end_year = 2013\n",
        "    avg_prices_per_year = {}\n",
        "    for year in range(start_year, end_year + 1):\n",
        "        prices_for_year = [price for (date, price) in gas_prices if int(date[-4:]) == year]\n",
        "        avg_prices_per_year[year] = round(sum(prices_for_year) / len(prices_for_year), 2)\n",
        "    return avg_prices_per_year\n",
        "\n",
        "# Function to get average price per month\n",
        "def get_average_price_per_month(gas_prices):\n",
        "    avg_prices_per_month = {}\n",
        "    for month in range(1, 13):\n",
        "        prices_for_month = [price for (date, price) in gas_prices if int(date[0:2]) == month]\n",
        "        avg_prices_per_month[month] = round(sum(prices_for_month) / len(prices_for_month), 2)\n",
        "    return avg_prices_per_month\n",
        "\n",
        "# Function to get highest and lowest prices per year\n",
        "def get_highest_and_lowest_prices_per_year(gas_prices):\n",
        "    start_year = 1993\n",
        "    end_year = 2013\n",
        "    highest_and_lowest_prices_per_year = {}\n",
        "    for year in range(start_year, end_year + 1):\n",
        "        prices_for_year = [(date, price) for (date, price) in gas_prices if int(date[-4:]) == year]\n",
        "        highest_and_lowest_prices_per_year[year] = (max(prices_for_year, key=lambda x: x[1]), \n",
        "                                                    min(prices_for_year, key=lambda x: x[1]))\n",
        "    return highest_and_lowest_prices_per_year\n",
        "\n",
        "# Function to generate list of prices, lowest to highest\n",
        "def generate_list_of_prices_lowest_to_highest(gas_prices):\n",
        "    sorted_prices = sorted(gas_prices, key=lambda x: x[1])\n",
        "    with open('GasPricesLowToHigh.txt', 'w') as f:\n",
        "        for (date, price) in sorted_prices:\n",
        "            f.write(f'{date}:{price}\\n')\n",
        "\n",
        "# Function to generate list of prices, highest to lowest\n",
        "def generate_list_of_prices_highest_to_lowest(gas_prices):\n",
        "    sorted_prices = sorted(gas_prices, key=lambda x: x[1], reverse=True)\n",
        "    with open('GasPricesHighToLow.txt', 'w') as f:\n",
        "        for (date, price) in sorted_prices:\n",
        "            f.write(f'{date}:{price}\\n')\n",
        "\n",
        "if __name__ == '__main__':\n",
        "    start_time = time.time()\n",
        "\n",
        "    gas_prices = read_gas_prices()\n",
        "    print(f'Read gas prices: {time.time() - start_time:.3f} seconds')\n",
        "\n",
        "    start_time = time.time()\n",
        "    avg_prices_per_year = get_average_price_per_year(gas_prices)\n",
        "    sorted_avg_prices_per_year = dict(sorted(avg_prices_per_year.items()))\n",
        "    print(f'Average price per year: {time.time() - start_time:.3f} seconds')\n",
        "    print(sorted_avg_prices_per_year)\n",
        "\n",
        "    start_time = time.time()\n",
        "    avg_prices_per_year = get_average_price_per_year(gas_prices)\n",
        "    sorted_avg_prices_per_year = dict(sorted(avg_prices_per_year.items()))\n",
        "    print(f'Average price per year: {time.time() - start_time:.3f} seconds')\n",
        "    print(sorted_avg_prices_per_year)\n",
        "\n",
        "    start_time = time.time()\n",
        "    avg_prices_per_month = get_average_price_per_month(gas_prices)\n",
        "    sorted_avg_prices_per_month = dict(sorted(avg_prices_per_month.items()))\n",
        "    print(f'Average price per month: {time.time() - start_time:.3f} seconds')\n",
        "    print(sorted_avg_prices_per_month)\n",
        "\n",
        "    start_time = time.time()\n",
        "    highest_and_lowest_prices_per_year = get_highest_and_lowest_prices_per_year(gas_prices)\n",
        "    sorted_highest_and_lowest_prices_per_year = dict(sorted(highest_and_lowest_prices_per_year.items()))\n",
        "    print(f'Highest and lowest prices per year: {time.time() - start_time:.3f} seconds')\n",
        "    print(sorted_highest_and_lowest_prices_per_year)\n",
        "\n",
        "    start_time = time.time()\n",
        "    generate_list_of_prices_lowest_to_highest(gas_prices)\n",
        "    print(f'Generated list of prices, lowest to highest: {time.time() - start_time:.3f} seconds')\n",
        "\n",
        "    start_time = time.time()\n",
        "    generate_list_of_prices_highest_to_lowest(gas_prices)\n",
        "    print(f'Generated list of prices, highest to lowest: {time.time() - start_time:.3f} seconds')\n",
        "\n",
        "\n",
        "\n",
        "\n"
      ]
    }
  ]
}