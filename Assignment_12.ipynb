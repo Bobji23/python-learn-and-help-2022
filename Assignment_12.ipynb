{
  "nbformat": 4,
  "nbformat_minor": 0,
  "metadata": {
    "colab": {
      "provenance": [],
      "authorship_tag": "ABX9TyNtPp/CXyg8BhntEit4HuJL",
      "include_colab_link": true
    },
    "kernelspec": {
      "name": "python3",
      "display_name": "Python 3"
    },
    "language_info": {
      "name": "python"
    }
  },
  "cells": [
    {
      "cell_type": "markdown",
      "metadata": {
        "id": "view-in-github",
        "colab_type": "text"
      },
      "source": [
        "<a href=\"https://colab.research.google.com/github/Bobji23/python-learn-and-help-2022/blob/main/Assignment_12.ipynb\" target=\"_parent\"><img src=\"https://colab.research.google.com/assets/colab-badge.svg\" alt=\"Open In Colab\"/></a>"
      ]
    },
    {
      "cell_type": "code",
      "execution_count": 1,
      "metadata": {
        "colab": {
          "base_uri": "https://localhost:8080/"
        },
        "id": "uTKhiW8adTO4",
        "outputId": "7e28b8d9-f78c-4000-e148-f04836ca526b"
      },
      "outputs": [
        {
          "output_type": "stream",
          "name": "stdout",
          "text": [
            "Enter the number in the format of XXX-XXX-XXXX: 123-hey-HEYY\n",
            "123-438-4388\n"
          ]
        }
      ],
      "source": [
        "def phone_num(phone_number):\n",
        "    num=phone_number.split('-')\n",
        "    area_code=num[0]\n",
        "    num_code=num[0:]\n",
        "    number=''\n",
        "    for n in num_code:\n",
        "        for index in range (len(n)):\n",
        "            if n[index] in 'ABC':\n",
        "                number=number+'2'\n",
        "            elif n[index] in 'DEF':\n",
        "                number=number+'3'\n",
        "            elif n[index] in 'GHI':\n",
        "                number=number+'4'\n",
        "            elif n[index] in 'JKL':\n",
        "                number=number+'5'\n",
        "            elif n[index] in 'MNO':\n",
        "                number=number+'6'\n",
        "            elif n[index] in 'PQRS':\n",
        "                number=number+'7'\n",
        "            elif n[index] in 'TUV':\n",
        "                number=number+'8'\n",
        "            elif n[index] in 'WXY':\n",
        "                number=number+'8'\n",
        "            elif n[index] in '123456789':\n",
        "                number=number + n[index]\n",
        "            else:\n",
        "                return \"Your input is incorrect. Please try again.\"\n",
        "        number=number+'-'\n",
        "    return number[:-1]\n",
        "\n",
        "phone_number= input(\"Enter the number in the format of XXX-XXX-XXXX: \")\n",
        "phone_number = phone_number.upper()\n",
        "# PhNumber.split('-')\n",
        "output=phone_num(phone_number)\n",
        "print(output)"
      ]
    }
  ]
}