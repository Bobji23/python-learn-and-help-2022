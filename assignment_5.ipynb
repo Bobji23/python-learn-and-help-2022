{
  "nbformat": 4,
  "nbformat_minor": 0,
  "metadata": {
    "colab": {
      "provenance": [],
      "authorship_tag": "ABX9TyMwVWhdYwHELu9Njnln1yF5",
      "include_colab_link": true
    },
    "kernelspec": {
      "name": "python3",
      "display_name": "Python 3"
    },
    "language_info": {
      "name": "python"
    }
  },
  "cells": [
    {
      "cell_type": "markdown",
      "metadata": {
        "id": "view-in-github",
        "colab_type": "text"
      },
      "source": [
        "<a href=\"https://colab.research.google.com/github/Bobji23/python-learn-and-help-2022/blob/main/assignment_5.ipynb\" target=\"_parent\"><img src=\"https://colab.research.google.com/assets/colab-badge.svg\" alt=\"Open In Colab\"/></a>"
      ]
    },
    {
      "cell_type": "code",
      "execution_count": null,
      "metadata": {
        "id": "g4WWGck5b9iq"
      },
      "outputs": [],
      "source": [
        "class Address:\n",
        "    def __init__(self, street, city, postal_code):\n",
        "        self.street = street\n",
        "        self.city = city\n",
        "        self.postal_code = postal_code\n",
        "\n",
        "    def __str__(self):\n",
        "        return f\"{self.street}, {self.city}, {self.postal_code}\"\n",
        "\n",
        "    def __repr__(self):\n",
        "        return f\"Address('{self.street}', '{self.city}', '{self.postal_code}')\"\n",
        "\n",
        "# Creating three instances of the Address class\n",
        "address1 = Address(\"123 Main St\", \"Cityville\", \"12345\")\n",
        "address2 = Address(\"456 Elm St\", \"Towntown\", \"67890\")\n",
        "address3 = Address(\"789 Oak St\", \"Villageton\", \"98765\")\n",
        "\n",
        "# Printing the object (uses the __str__ method)\n",
        "print(address1)\n",
        "print(address2)\n",
        "print(address3)\n",
        "\n",
        "# Printing the representation of the object (uses the __repr__ method)\n",
        "print(repr(address1))\n",
        "print(repr(address2))\n",
        "print(repr(address3))\n"
      ]
    }
  ]
}